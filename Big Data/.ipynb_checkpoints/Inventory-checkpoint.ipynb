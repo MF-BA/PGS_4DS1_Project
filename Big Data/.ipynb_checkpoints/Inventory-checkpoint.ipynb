{
 "cells": [
  {
   "cell_type": "code",
   "execution_count": 160,
   "id": "693fe23a",
   "metadata": {},
   "outputs": [],
   "source": [
    "import numpy as np\n",
    "import pandas as pd\n",
    "import matplotlib.pyplot as plt\n",
    "from numpy import isnan\n",
    "from pandas import read_csv"
   ]
  },
  {
   "cell_type": "markdown",
   "id": "04abe42d",
   "metadata": {},
   "source": [
    "# Data import\n",
    "----"
   ]
  },
  {
   "cell_type": "code",
   "execution_count": 161,
   "id": "5c03ba79",
   "metadata": {},
   "outputs": [],
   "source": [
    "bulk_movement = pd.read_excel('Bulk_movement.xls')"
   ]
  },
  {
   "cell_type": "code",
   "execution_count": 162,
   "id": "c924326b",
   "metadata": {},
   "outputs": [
    {
     "name": "stdout",
     "output_type": "stream",
     "text": [
      "WARNING *** OLE2 inconsistency: SSCS size is 0 but SSAT size is non-zero\n"
     ]
    }
   ],
   "source": [
    "bulk_product = pd.read_excel('BULK_PRODUCT.xls')"
   ]
  },
  {
   "cell_type": "code",
   "execution_count": 163,
   "id": "16af6c87",
   "metadata": {},
   "outputs": [],
   "source": [
    "order_recipe1 = pd.read_excel('ORDER_RECIPE1.xls')"
   ]
  },
  {
   "cell_type": "code",
   "execution_count": 164,
   "id": "9902dc84",
   "metadata": {},
   "outputs": [],
   "source": [
    "order_recipe2 = pd.read_excel('ORDER_RECIPE2.xls')"
   ]
  },
  {
   "cell_type": "code",
   "execution_count": 165,
   "id": "9e51c374",
   "metadata": {},
   "outputs": [],
   "source": [
    "order_recipe3 = pd.read_excel('ORDER_RECIPE3.xls')"
   ]
  },
  {
   "cell_type": "code",
   "execution_count": 166,
   "id": "f1f26325",
   "metadata": {},
   "outputs": [],
   "source": [
    "order_recipe4 = pd.read_excel('ORDER_RECIPE4.xls')"
   ]
  },
  {
   "cell_type": "code",
   "execution_count": 167,
   "id": "22a91961",
   "metadata": {},
   "outputs": [],
   "source": [
    "order_recipe5 = pd.read_excel('ORDER_RECIPE5.xls')"
   ]
  },
  {
   "cell_type": "code",
   "execution_count": 168,
   "id": "87578ecd",
   "metadata": {},
   "outputs": [],
   "source": [
    "order_recipe6 = pd.read_excel('ORDER_RECIPE6.xls')"
   ]
  },
  {
   "cell_type": "code",
   "execution_count": 169,
   "id": "2ad2b95c",
   "metadata": {},
   "outputs": [],
   "source": [
    "order_recipe7 = pd.read_excel('ORDER_RECIPE7.xls')"
   ]
  },
  {
   "cell_type": "code",
   "execution_count": 170,
   "id": "4a080114",
   "metadata": {},
   "outputs": [],
   "source": [
    "order_recipe8 = pd.read_excel('ORDER_RECIPE8.xls')"
   ]
  },
  {
   "cell_type": "code",
   "execution_count": 171,
   "id": "f29cc918",
   "metadata": {},
   "outputs": [],
   "source": [
    "orders = pd.read_excel('Orders.xls')"
   ]
  },
  {
   "cell_type": "code",
   "execution_count": 172,
   "id": "bc541212",
   "metadata": {},
   "outputs": [],
   "source": [
    "order_tank_inv = pd.read_excel('ORDERS_TANK_INV.xls')"
   ]
  },
  {
   "cell_type": "code",
   "execution_count": 173,
   "id": "ed4e8822",
   "metadata": {},
   "outputs": [
    {
     "name": "stdout",
     "output_type": "stream",
     "text": [
      "WARNING *** OLE2 inconsistency: SSCS size is 0 but SSAT size is non-zero\n"
     ]
    }
   ],
   "source": [
    "compartment_strapping1 = pd.read_excel('COMPARTMENT_STRAPPING1.xls')"
   ]
  },
  {
   "cell_type": "code",
   "execution_count": 174,
   "id": "72ca1ca5",
   "metadata": {},
   "outputs": [
    {
     "name": "stdout",
     "output_type": "stream",
     "text": [
      "WARNING *** OLE2 inconsistency: SSCS size is 0 but SSAT size is non-zero\n"
     ]
    }
   ],
   "source": [
    "compartment_strapping2 = pd.read_excel('COMPARTMENT_STRAPPING2.xls')"
   ]
  },
  {
   "cell_type": "code",
   "execution_count": 175,
   "id": "14d0171b",
   "metadata": {},
   "outputs": [
    {
     "name": "stdout",
     "output_type": "stream",
     "text": [
      "WARNING *** OLE2 inconsistency: SSCS size is 0 but SSAT size is non-zero\n"
     ]
    }
   ],
   "source": [
    "compartment_strapping3 = pd.read_excel('COMPARTMENT_STRAPPING3.xls')"
   ]
  },
  {
   "cell_type": "code",
   "execution_count": 176,
   "id": "fab8cb4e",
   "metadata": {},
   "outputs": [
    {
     "name": "stdout",
     "output_type": "stream",
     "text": [
      "WARNING *** OLE2 inconsistency: SSCS size is 0 but SSAT size is non-zero\n"
     ]
    }
   ],
   "source": [
    "compartment_strapping4 = pd.read_excel('COMPARTMENT_STRAPPING4.xls')"
   ]
  },
  {
   "cell_type": "code",
   "execution_count": 177,
   "id": "a1229b5f",
   "metadata": {},
   "outputs": [
    {
     "name": "stdout",
     "output_type": "stream",
     "text": [
      "WARNING *** OLE2 inconsistency: SSCS size is 0 but SSAT size is non-zero\n"
     ]
    }
   ],
   "source": [
    "compartment_strapping5 = pd.read_excel('COMPARTMENT_STRAPPING5.xls')"
   ]
  },
  {
   "cell_type": "code",
   "execution_count": 178,
   "id": "9e306481",
   "metadata": {},
   "outputs": [
    {
     "name": "stdout",
     "output_type": "stream",
     "text": [
      "WARNING *** OLE2 inconsistency: SSCS size is 0 but SSAT size is non-zero\n"
     ]
    }
   ],
   "source": [
    "compartment_strapping6 = pd.read_excel('COMPARTMENT_STRAPPING6.xls')"
   ]
  },
  {
   "cell_type": "code",
   "execution_count": 179,
   "id": "47059eb1",
   "metadata": {},
   "outputs": [],
   "source": [
    "tank1 = pd.read_excel('TANK1.xlsx')"
   ]
  },
  {
   "cell_type": "markdown",
   "id": "5516047d",
   "metadata": {},
   "source": [
    "# Columns to keep\n",
    "----"
   ]
  },
  {
   "cell_type": "code",
   "execution_count": 180,
   "id": "9d912813",
   "metadata": {},
   "outputs": [],
   "source": [
    "columns_to_keep_bulk_movement = ['BULK_MOVEMENT_ID','FOLIO_NUMBER','FROM_SUPPLIER_NUMBER','TO_SUPPLIER_NUMBER','TYPE','MOVEMENT_NUMBER','MOVEMENT_DATE','AIC_STATUS']"
   ]
  },
  {
   "cell_type": "code",
   "execution_count": 181,
   "id": "06cbeb95",
   "metadata": {},
   "outputs": [],
   "source": [
    "# Keep specific columns\n",
    "bulk_movement = bulk_movement[columns_to_keep_bulk_movement]"
   ]
  },
  {
   "cell_type": "code",
   "execution_count": 182,
   "id": "9f47de9e",
   "metadata": {},
   "outputs": [],
   "source": [
    "columns_to_keep_bulk_product = ['BULK_MOVEMENT_ID','TERMINAL_PRODUCT_NUMBER','CONTAINER_CODE','FIGURES_TYPE','GROSS_QUANTITY','NET_QUANTITY','TEMPERATURE','END_DATE']"
   ]
  },
  {
   "cell_type": "code",
   "execution_count": 183,
   "id": "433bd0ec",
   "metadata": {},
   "outputs": [],
   "source": [
    "# Keep specific columns\n",
    "bulk_product = bulk_product[columns_to_keep_bulk_product]"
   ]
  },
  {
   "cell_type": "code",
   "execution_count": 184,
   "id": "ca13944a",
   "metadata": {},
   "outputs": [],
   "source": [
    "columns_to_keep_order_recipe1 = ['ORDER_ID','PRODUCT_GROUP_CODE','SUPPLIER_NUMBER','ORDERED_QUANTITY','GROSS_QUANTITY','NET_QUANTITY','ADDITIVE_QUANTITY','PRODUCT_QUANTITY','COMPARTMENT_CONTAINER_CODE']"
   ]
  },
  {
   "cell_type": "code",
   "execution_count": 185,
   "id": "b6c86236",
   "metadata": {},
   "outputs": [],
   "source": [
    "# Keep specific columns\n",
    "order_recipe1 = order_recipe1[columns_to_keep_order_recipe1]"
   ]
  },
  {
   "cell_type": "code",
   "execution_count": 186,
   "id": "89f80668",
   "metadata": {},
   "outputs": [],
   "source": [
    "columns_to_keep_order_recipe2 = ['ORDER_ID','PRODUCT_GROUP_CODE','SUPPLIER_NUMBER','ORDERED_QUANTITY','GROSS_QUANTITY','NET_QUANTITY','ADDITIVE_QUANTITY','PRODUCT_QUANTITY','COMPARTMENT_CONTAINER_CODE']"
   ]
  },
  {
   "cell_type": "code",
   "execution_count": 187,
   "id": "3a297c6e",
   "metadata": {},
   "outputs": [],
   "source": [
    "# Keep specific columns\n",
    "order_recipe2 = order_recipe2[columns_to_keep_order_recipe2]"
   ]
  },
  {
   "cell_type": "code",
   "execution_count": 188,
   "id": "306c2cea",
   "metadata": {},
   "outputs": [],
   "source": [
    "columns_to_keep_order_recipe3 = ['ORDER_ID','PRODUCT_GROUP_CODE','SUPPLIER_NUMBER','ORDERED_QUANTITY','GROSS_QUANTITY','NET_QUANTITY','ADDITIVE_QUANTITY','PRODUCT_QUANTITY','COMPARTMENT_CONTAINER_CODE']"
   ]
  },
  {
   "cell_type": "code",
   "execution_count": 189,
   "id": "aec3d000",
   "metadata": {},
   "outputs": [],
   "source": [
    "# Keep specific columns\n",
    "order_recipe3 = order_recipe3[columns_to_keep_order_recipe3]"
   ]
  },
  {
   "cell_type": "code",
   "execution_count": 190,
   "id": "3ffedc4c",
   "metadata": {},
   "outputs": [],
   "source": [
    "columns_to_keep_order_recipe4 = ['ORDER_ID','PRODUCT_GROUP_CODE','SUPPLIER_NUMBER','ORDERED_QUANTITY','GROSS_QUANTITY','NET_QUANTITY','ADDITIVE_QUANTITY','PRODUCT_QUANTITY','COMPARTMENT_CONTAINER_CODE']"
   ]
  },
  {
   "cell_type": "code",
   "execution_count": 191,
   "id": "03c56bfe",
   "metadata": {},
   "outputs": [],
   "source": [
    "# Keep specific columns\n",
    "order_recipe4 = order_recipe4[columns_to_keep_order_recipe4]"
   ]
  },
  {
   "cell_type": "code",
   "execution_count": 192,
   "id": "7c5bb12a",
   "metadata": {},
   "outputs": [],
   "source": [
    "columns_to_keep_order_recipe5 = ['ORDER_ID','PRODUCT_GROUP_CODE','SUPPLIER_NUMBER','ORDERED_QUANTITY','GROSS_QUANTITY','NET_QUANTITY','ADDITIVE_QUANTITY','PRODUCT_QUANTITY','COMPARTMENT_CONTAINER_CODE']"
   ]
  },
  {
   "cell_type": "code",
   "execution_count": 193,
   "id": "60e6604d",
   "metadata": {},
   "outputs": [],
   "source": [
    "# Keep specific columns\n",
    "order_recipe5 = order_recipe5[columns_to_keep_order_recipe5]"
   ]
  },
  {
   "cell_type": "code",
   "execution_count": 194,
   "id": "01b3ceb8",
   "metadata": {},
   "outputs": [],
   "source": [
    "columns_to_keep_order_recipe6 = ['ORDER_ID','PRODUCT_GROUP_CODE','SUPPLIER_NUMBER','ORDERED_QUANTITY','GROSS_QUANTITY','NET_QUANTITY','ADDITIVE_QUANTITY','PRODUCT_QUANTITY','COMPARTMENT_CONTAINER_CODE']"
   ]
  },
  {
   "cell_type": "code",
   "execution_count": 195,
   "id": "53d40e7d",
   "metadata": {},
   "outputs": [],
   "source": [
    "# Keep specific columns\n",
    "order_recipe6 = order_recipe6[columns_to_keep_order_recipe6]"
   ]
  },
  {
   "cell_type": "code",
   "execution_count": 196,
   "id": "2ea3b7e0",
   "metadata": {},
   "outputs": [],
   "source": [
    "columns_to_keep_order_recipe7 = ['ORDER_ID','PRODUCT_GROUP_CODE','SUPPLIER_NUMBER','ORDERED_QUANTITY','GROSS_QUANTITY','NET_QUANTITY','ADDITIVE_QUANTITY','PRODUCT_QUANTITY','COMPARTMENT_CONTAINER_CODE']"
   ]
  },
  {
   "cell_type": "code",
   "execution_count": 197,
   "id": "fe6bd402",
   "metadata": {},
   "outputs": [],
   "source": [
    "# Keep specific columns\n",
    "order_recipe7 = order_recipe7[columns_to_keep_order_recipe7]"
   ]
  },
  {
   "cell_type": "code",
   "execution_count": 198,
   "id": "37215bea",
   "metadata": {},
   "outputs": [],
   "source": [
    "columns_to_keep_order_recipe8 = ['ORDER_ID','PRODUCT_GROUP_CODE','SUPPLIER_NUMBER','ORDERED_QUANTITY','GROSS_QUANTITY','NET_QUANTITY','ADDITIVE_QUANTITY','PRODUCT_QUANTITY','COMPARTMENT_CONTAINER_CODE']"
   ]
  },
  {
   "cell_type": "code",
   "execution_count": 199,
   "id": "f03a4031",
   "metadata": {},
   "outputs": [],
   "source": [
    "# Keep specific columns\n",
    "order_recipe8 = order_recipe8[columns_to_keep_order_recipe8]"
   ]
  },
  {
   "cell_type": "code",
   "execution_count": 200,
   "id": "c6090b51",
   "metadata": {},
   "outputs": [],
   "source": [
    "columns_to_keep_orders = ['ORDER_ID','MOVEMENT_NUMBER','SUPPLIER_NUMBER','FOLIO_NUMBER']"
   ]
  },
  {
   "cell_type": "code",
   "execution_count": 201,
   "id": "3a06d560",
   "metadata": {},
   "outputs": [],
   "source": [
    "# Keep specific columns and drop 'END_LOAD_TIME' and 'START_LOAD_TIME'\n",
    "orders = orders[columns_to_keep_orders]"
   ]
  },
  {
   "cell_type": "code",
   "execution_count": 202,
   "id": "66385d58",
   "metadata": {},
   "outputs": [],
   "source": [
    "columns_to_keep_compartment_strapping1 = ['CONTAINER_CODE','QUANTITY','INT_LEVEL']"
   ]
  },
  {
   "cell_type": "code",
   "execution_count": 203,
   "id": "e86da55a",
   "metadata": {},
   "outputs": [],
   "source": [
    "# Keep specific columns\n",
    "compartment_strapping1 = compartment_strapping1[columns_to_keep_compartment_strapping1]"
   ]
  },
  {
   "cell_type": "code",
   "execution_count": 204,
   "id": "e3552695",
   "metadata": {},
   "outputs": [],
   "source": [
    "columns_to_keep_compartment_strapping2 = ['CONTAINER_CODE','QUANTITY','INT_LEVEL']"
   ]
  },
  {
   "cell_type": "code",
   "execution_count": 205,
   "id": "ac183314",
   "metadata": {},
   "outputs": [],
   "source": [
    "# Keep specific columns\n",
    "compartment_strapping2 = compartment_strapping2[columns_to_keep_compartment_strapping2]"
   ]
  },
  {
   "cell_type": "code",
   "execution_count": 206,
   "id": "81b09518",
   "metadata": {},
   "outputs": [],
   "source": [
    "columns_to_keep_compartment_strapping3 = ['CONTAINER_CODE','QUANTITY','INT_LEVEL']"
   ]
  },
  {
   "cell_type": "code",
   "execution_count": 207,
   "id": "fab3bb85",
   "metadata": {},
   "outputs": [],
   "source": [
    "# Keep specific columns\n",
    "compartment_strapping3 = compartment_strapping3[columns_to_keep_compartment_strapping3]"
   ]
  },
  {
   "cell_type": "code",
   "execution_count": 208,
   "id": "d4e4226a",
   "metadata": {},
   "outputs": [],
   "source": [
    "columns_to_keep_compartment_strapping4 = ['CONTAINER_CODE','QUANTITY','INT_LEVEL']"
   ]
  },
  {
   "cell_type": "code",
   "execution_count": 209,
   "id": "9ba1cbcd",
   "metadata": {},
   "outputs": [],
   "source": [
    "# Keep specific columns\n",
    "compartment_strapping4 = compartment_strapping4[columns_to_keep_compartment_strapping4]"
   ]
  },
  {
   "cell_type": "code",
   "execution_count": 210,
   "id": "6691c939",
   "metadata": {},
   "outputs": [],
   "source": [
    "columns_to_keep_compartment_strapping5 = ['CONTAINER_CODE','QUANTITY','INT_LEVEL']"
   ]
  },
  {
   "cell_type": "code",
   "execution_count": 211,
   "id": "0eba44ef",
   "metadata": {},
   "outputs": [],
   "source": [
    "# Keep specific columns\n",
    "compartment_strapping5 = compartment_strapping5[columns_to_keep_compartment_strapping5]"
   ]
  },
  {
   "cell_type": "code",
   "execution_count": 212,
   "id": "0675d907",
   "metadata": {},
   "outputs": [],
   "source": [
    "columns_to_keep_compartment_strapping6 = ['CONTAINER_CODE','QUANTITY','INT_LEVEL']"
   ]
  },
  {
   "cell_type": "code",
   "execution_count": 213,
   "id": "383f4582",
   "metadata": {},
   "outputs": [],
   "source": [
    "# Keep specific columns\n",
    "compartment_strapping6 = compartment_strapping6[columns_to_keep_compartment_strapping6]"
   ]
  },
  {
   "cell_type": "code",
   "execution_count": 214,
   "id": "b2bf439a",
   "metadata": {},
   "outputs": [],
   "source": [
    "columns_to_keep_tank1 = ['TANK_CODE','NAME','SHELL_CAPACITY','TERMINAL_PRODUCT_NUMBER']"
   ]
  },
  {
   "cell_type": "code",
   "execution_count": 215,
   "id": "364deb7c",
   "metadata": {},
   "outputs": [],
   "source": [
    "# Keep specific columns\n",
    "tank1 = tank1[columns_to_keep_tank1]"
   ]
  },
  {
   "cell_type": "code",
   "execution_count": 216,
   "id": "cc986c69",
   "metadata": {},
   "outputs": [],
   "source": [
    "merged_bulk = pd.merge(bulk_movement, bulk_product, on='BULK_MOVEMENT_ID', how='inner')"
   ]
  },
  {
   "cell_type": "code",
   "execution_count": 217,
   "id": "feb8fb09",
   "metadata": {},
   "outputs": [],
   "source": [
    "merged_bulk = merged_bulk.dropna(subset=['FOLIO_NUMBER'])\n",
    "\n",
    "# Reset index if needed\n",
    "merged_bulk.reset_index(drop=True, inplace=True)"
   ]
  },
  {
   "cell_type": "code",
   "execution_count": 218,
   "id": "2f9dca6a",
   "metadata": {},
   "outputs": [
    {
     "data": {
      "text/html": [
       "<div>\n",
       "<style scoped>\n",
       "    .dataframe tbody tr th:only-of-type {\n",
       "        vertical-align: middle;\n",
       "    }\n",
       "\n",
       "    .dataframe tbody tr th {\n",
       "        vertical-align: top;\n",
       "    }\n",
       "\n",
       "    .dataframe thead th {\n",
       "        text-align: right;\n",
       "    }\n",
       "</style>\n",
       "<table border=\"1\" class=\"dataframe\">\n",
       "  <thead>\n",
       "    <tr style=\"text-align: right;\">\n",
       "      <th></th>\n",
       "      <th>BULK_MOVEMENT_ID</th>\n",
       "      <th>FOLIO_NUMBER</th>\n",
       "      <th>FROM_SUPPLIER_NUMBER</th>\n",
       "      <th>TO_SUPPLIER_NUMBER</th>\n",
       "      <th>TYPE</th>\n",
       "      <th>MOVEMENT_NUMBER</th>\n",
       "      <th>MOVEMENT_DATE</th>\n",
       "      <th>AIC_STATUS</th>\n",
       "      <th>TERMINAL_PRODUCT_NUMBER</th>\n",
       "      <th>CONTAINER_CODE</th>\n",
       "      <th>FIGURES_TYPE</th>\n",
       "      <th>GROSS_QUANTITY</th>\n",
       "      <th>NET_QUANTITY</th>\n",
       "      <th>TEMPERATURE</th>\n",
       "      <th>END_DATE</th>\n",
       "    </tr>\n",
       "  </thead>\n",
       "  <tbody>\n",
       "    <tr>\n",
       "      <th>0</th>\n",
       "      <td>22545</td>\n",
       "      <td>20210928.0</td>\n",
       "      <td>NaN</td>\n",
       "      <td>1</td>\n",
       "      <td>1</td>\n",
       "      <td>519</td>\n",
       "      <td>2021-09-28 06:56:15</td>\n",
       "      <td>1</td>\n",
       "      <td>8</td>\n",
       "      <td>TK-100</td>\n",
       "      <td>1</td>\n",
       "      <td>100000</td>\n",
       "      <td>100000</td>\n",
       "      <td>15.0</td>\n",
       "      <td>2021-09-28 06:56:32</td>\n",
       "    </tr>\n",
       "    <tr>\n",
       "      <th>1</th>\n",
       "      <td>22545</td>\n",
       "      <td>20210928.0</td>\n",
       "      <td>NaN</td>\n",
       "      <td>1</td>\n",
       "      <td>1</td>\n",
       "      <td>519</td>\n",
       "      <td>2021-09-28 06:56:15</td>\n",
       "      <td>1</td>\n",
       "      <td>9</td>\n",
       "      <td>TK-200</td>\n",
       "      <td>1</td>\n",
       "      <td>100000</td>\n",
       "      <td>100000</td>\n",
       "      <td>15.0</td>\n",
       "      <td>2021-09-28 06:57:30</td>\n",
       "    </tr>\n",
       "    <tr>\n",
       "      <th>2</th>\n",
       "      <td>23263</td>\n",
       "      <td>20210928.0</td>\n",
       "      <td>NaN</td>\n",
       "      <td>5</td>\n",
       "      <td>1</td>\n",
       "      <td>536</td>\n",
       "      <td>2021-09-28 08:22:41</td>\n",
       "      <td>1</td>\n",
       "      <td>12</td>\n",
       "      <td>TK-300</td>\n",
       "      <td>1</td>\n",
       "      <td>1000000000</td>\n",
       "      <td>1000000000</td>\n",
       "      <td>15.0</td>\n",
       "      <td>2021-09-28 08:23:08</td>\n",
       "    </tr>\n",
       "    <tr>\n",
       "      <th>3</th>\n",
       "      <td>23263</td>\n",
       "      <td>20210928.0</td>\n",
       "      <td>NaN</td>\n",
       "      <td>5</td>\n",
       "      <td>1</td>\n",
       "      <td>536</td>\n",
       "      <td>2021-09-28 08:22:41</td>\n",
       "      <td>1</td>\n",
       "      <td>13</td>\n",
       "      <td>TK-400</td>\n",
       "      <td>1</td>\n",
       "      <td>10000000</td>\n",
       "      <td>10000000</td>\n",
       "      <td>15.0</td>\n",
       "      <td>2021-09-28 08:24:17</td>\n",
       "    </tr>\n",
       "    <tr>\n",
       "      <th>4</th>\n",
       "      <td>23513</td>\n",
       "      <td>20210928.0</td>\n",
       "      <td>NaN</td>\n",
       "      <td>8</td>\n",
       "      <td>1</td>\n",
       "      <td>541</td>\n",
       "      <td>2021-09-28 08:59:36</td>\n",
       "      <td>1</td>\n",
       "      <td>10</td>\n",
       "      <td>TK-500</td>\n",
       "      <td>1</td>\n",
       "      <td>10000000</td>\n",
       "      <td>10000000</td>\n",
       "      <td>15.0</td>\n",
       "      <td>2021-09-28 08:59:44</td>\n",
       "    </tr>\n",
       "    <tr>\n",
       "      <th>...</th>\n",
       "      <td>...</td>\n",
       "      <td>...</td>\n",
       "      <td>...</td>\n",
       "      <td>...</td>\n",
       "      <td>...</td>\n",
       "      <td>...</td>\n",
       "      <td>...</td>\n",
       "      <td>...</td>\n",
       "      <td>...</td>\n",
       "      <td>...</td>\n",
       "      <td>...</td>\n",
       "      <td>...</td>\n",
       "      <td>...</td>\n",
       "      <td>...</td>\n",
       "      <td>...</td>\n",
       "    </tr>\n",
       "    <tr>\n",
       "      <th>726</th>\n",
       "      <td>3091853</td>\n",
       "      <td>20230718.0</td>\n",
       "      <td>NaN</td>\n",
       "      <td>12</td>\n",
       "      <td>1</td>\n",
       "      <td>71839</td>\n",
       "      <td>2023-07-18 15:08:10</td>\n",
       "      <td>1</td>\n",
       "      <td>7</td>\n",
       "      <td>TK-103</td>\n",
       "      <td>4</td>\n",
       "      <td>5802730</td>\n",
       "      <td>5802730</td>\n",
       "      <td>15.0</td>\n",
       "      <td>2023-07-18 15:08:19</td>\n",
       "    </tr>\n",
       "    <tr>\n",
       "      <th>727</th>\n",
       "      <td>3091864</td>\n",
       "      <td>20230718.0</td>\n",
       "      <td>NaN</td>\n",
       "      <td>14</td>\n",
       "      <td>1</td>\n",
       "      <td>71840</td>\n",
       "      <td>2023-07-18 15:10:33</td>\n",
       "      <td>1</td>\n",
       "      <td>4</td>\n",
       "      <td>TK-105</td>\n",
       "      <td>1</td>\n",
       "      <td>100000</td>\n",
       "      <td>100000</td>\n",
       "      <td>15.0</td>\n",
       "      <td>2023-07-18 15:10:49</td>\n",
       "    </tr>\n",
       "    <tr>\n",
       "      <th>728</th>\n",
       "      <td>3091881</td>\n",
       "      <td>20230718.0</td>\n",
       "      <td>NaN</td>\n",
       "      <td>15</td>\n",
       "      <td>1</td>\n",
       "      <td>71841</td>\n",
       "      <td>2023-07-18 15:12:43</td>\n",
       "      <td>1</td>\n",
       "      <td>7</td>\n",
       "      <td>TK-102</td>\n",
       "      <td>4</td>\n",
       "      <td>-13192</td>\n",
       "      <td>-13192</td>\n",
       "      <td>15.0</td>\n",
       "      <td>2023-07-18 15:12:49</td>\n",
       "    </tr>\n",
       "    <tr>\n",
       "      <th>729</th>\n",
       "      <td>3091891</td>\n",
       "      <td>20230718.0</td>\n",
       "      <td>NaN</td>\n",
       "      <td>19</td>\n",
       "      <td>1</td>\n",
       "      <td>71842</td>\n",
       "      <td>2023-07-18 15:14:41</td>\n",
       "      <td>1</td>\n",
       "      <td>4</td>\n",
       "      <td>TK-106</td>\n",
       "      <td>4</td>\n",
       "      <td>100085</td>\n",
       "      <td>100085</td>\n",
       "      <td>15.0</td>\n",
       "      <td>2023-07-18 15:14:48</td>\n",
       "    </tr>\n",
       "    <tr>\n",
       "      <th>730</th>\n",
       "      <td>3091906</td>\n",
       "      <td>20230718.0</td>\n",
       "      <td>NaN</td>\n",
       "      <td>20</td>\n",
       "      <td>1</td>\n",
       "      <td>71843</td>\n",
       "      <td>2023-07-18 15:16:18</td>\n",
       "      <td>1</td>\n",
       "      <td>7</td>\n",
       "      <td>TK-102</td>\n",
       "      <td>4</td>\n",
       "      <td>-2448171</td>\n",
       "      <td>-2448171</td>\n",
       "      <td>15.0</td>\n",
       "      <td>2023-07-18 15:16:24</td>\n",
       "    </tr>\n",
       "  </tbody>\n",
       "</table>\n",
       "<p>731 rows × 15 columns</p>\n",
       "</div>"
      ],
      "text/plain": [
       "     BULK_MOVEMENT_ID  FOLIO_NUMBER  FROM_SUPPLIER_NUMBER  TO_SUPPLIER_NUMBER  \\\n",
       "0               22545    20210928.0                   NaN                   1   \n",
       "1               22545    20210928.0                   NaN                   1   \n",
       "2               23263    20210928.0                   NaN                   5   \n",
       "3               23263    20210928.0                   NaN                   5   \n",
       "4               23513    20210928.0                   NaN                   8   \n",
       "..                ...           ...                   ...                 ...   \n",
       "726           3091853    20230718.0                   NaN                  12   \n",
       "727           3091864    20230718.0                   NaN                  14   \n",
       "728           3091881    20230718.0                   NaN                  15   \n",
       "729           3091891    20230718.0                   NaN                  19   \n",
       "730           3091906    20230718.0                   NaN                  20   \n",
       "\n",
       "     TYPE  MOVEMENT_NUMBER       MOVEMENT_DATE  AIC_STATUS  \\\n",
       "0       1              519 2021-09-28 06:56:15           1   \n",
       "1       1              519 2021-09-28 06:56:15           1   \n",
       "2       1              536 2021-09-28 08:22:41           1   \n",
       "3       1              536 2021-09-28 08:22:41           1   \n",
       "4       1              541 2021-09-28 08:59:36           1   \n",
       "..    ...              ...                 ...         ...   \n",
       "726     1            71839 2023-07-18 15:08:10           1   \n",
       "727     1            71840 2023-07-18 15:10:33           1   \n",
       "728     1            71841 2023-07-18 15:12:43           1   \n",
       "729     1            71842 2023-07-18 15:14:41           1   \n",
       "730     1            71843 2023-07-18 15:16:18           1   \n",
       "\n",
       "     TERMINAL_PRODUCT_NUMBER CONTAINER_CODE  FIGURES_TYPE  GROSS_QUANTITY  \\\n",
       "0                          8         TK-100             1          100000   \n",
       "1                          9         TK-200             1          100000   \n",
       "2                         12         TK-300             1      1000000000   \n",
       "3                         13         TK-400             1        10000000   \n",
       "4                         10         TK-500             1        10000000   \n",
       "..                       ...            ...           ...             ...   \n",
       "726                        7         TK-103             4         5802730   \n",
       "727                        4         TK-105             1          100000   \n",
       "728                        7         TK-102             4          -13192   \n",
       "729                        4         TK-106             4          100085   \n",
       "730                        7         TK-102             4        -2448171   \n",
       "\n",
       "     NET_QUANTITY  TEMPERATURE            END_DATE  \n",
       "0          100000         15.0 2021-09-28 06:56:32  \n",
       "1          100000         15.0 2021-09-28 06:57:30  \n",
       "2      1000000000         15.0 2021-09-28 08:23:08  \n",
       "3        10000000         15.0 2021-09-28 08:24:17  \n",
       "4        10000000         15.0 2021-09-28 08:59:44  \n",
       "..            ...          ...                 ...  \n",
       "726       5802730         15.0 2023-07-18 15:08:19  \n",
       "727        100000         15.0 2023-07-18 15:10:49  \n",
       "728        -13192         15.0 2023-07-18 15:12:49  \n",
       "729        100085         15.0 2023-07-18 15:14:48  \n",
       "730      -2448171         15.0 2023-07-18 15:16:24  \n",
       "\n",
       "[731 rows x 15 columns]"
      ]
     },
     "execution_count": 218,
     "metadata": {},
     "output_type": "execute_result"
    }
   ],
   "source": [
    "merged_bulk"
   ]
  },
  {
   "cell_type": "code",
   "execution_count": 219,
   "id": "a02f0879",
   "metadata": {},
   "outputs": [
    {
     "name": "stdout",
     "output_type": "stream",
     "text": [
      "CONTAINER_CODE\n",
      "TK-100    997864619\n",
      "TK-101    673795114\n",
      "TK-102    163258574\n",
      "TK-103    624452118\n",
      "TK-104    524510355\n",
      "TK-105    111824749\n",
      "TK-106     86990038\n",
      "TK-200      1859007\n",
      "TK-201     26091062\n",
      "TK-202     20902474\n",
      "TK-300      -449051\n",
      "TK-304      1001050\n",
      "TK-305    152180086\n",
      "TK-400      -335264\n",
      "TK-500     13604437\n",
      "TK-600     10075830\n",
      "Name: GROSS_QUANTITY, dtype: int64\n"
     ]
    }
   ],
   "source": [
    "# Group by 'CONTAINER_CODE' and calculate the sum of 'GROSS_QUANTITY' for each tank\n",
    "tank_sum = merged_bulk.groupby('CONTAINER_CODE')['GROSS_QUANTITY'].sum()\n",
    "\n",
    "print(tank_sum)"
   ]
  },
  {
   "cell_type": "code",
   "execution_count": 220,
   "id": "0c474cf5",
   "metadata": {},
   "outputs": [],
   "source": [
    "# Read all six Excel files into separate DataFrames\n",
    "order_recipe_merge = pd.concat([order_recipe1, order_recipe2, order_recipe3, order_recipe4, order_recipe5, order_recipe6,order_recipe7,order_recipe8], ignore_index=True)"
   ]
  },
  {
   "cell_type": "code",
   "execution_count": 221,
   "id": "5bf5fe3e",
   "metadata": {},
   "outputs": [
    {
     "name": "stdout",
     "output_type": "stream",
     "text": [
      "COMPARTMENT_CONTAINER_CODE\n",
      "TK-100      27111876\n",
      "TK-101      78783744\n",
      "TK-102     105801011\n",
      "TK-103     202264228\n",
      "TK-104     162302685\n",
      "TK-105      21544773\n",
      "TK-106     162163348\n",
      "TK-200       2698448\n",
      "TK-201      19426473\n",
      "TK-202      23559414\n",
      "TK-203      51873243\n",
      "TK-205    1022448881\n",
      "TK-300      12300804\n",
      "TK-301             0\n",
      "TK-305     119295857\n",
      "TK-306         57457\n",
      "TK-400       1008308\n",
      "TK-500      32037307\n",
      "TK-600       7218233\n",
      "Name: GROSS_QUANTITY, dtype: int64\n"
     ]
    }
   ],
   "source": [
    "# Group by 'CONTAINER_CODE' and calculate the sum of 'GROSS_QUANTITY' for each tank\n",
    "order_sum = order_recipe_merge.groupby('COMPARTMENT_CONTAINER_CODE')['GROSS_QUANTITY'].sum()\n",
    "\n",
    "print(order_sum)"
   ]
  },
  {
   "cell_type": "code",
   "execution_count": 222,
   "id": "c239c1c7",
   "metadata": {},
   "outputs": [
    {
     "name": "stdout",
     "output_type": "stream",
     "text": [
      "Tank TK-100: 970752743\n",
      "Tank TK-101: 595011370\n",
      "Tank TK-102: 57457563\n",
      "Tank TK-103: 422187890\n",
      "Tank TK-104: 362207670\n",
      "Tank TK-105: 90279976\n",
      "Tank TK-106: -75173310\n",
      "Tank TK-200: -839441\n",
      "Tank TK-201: 6664589\n",
      "Tank TK-202: -2656940\n",
      "Tank TK-300: -12749855\n",
      "Tank TK-305: 32884229\n",
      "Tank TK-400: -1343572\n",
      "Tank TK-500: -18432870\n",
      "Tank TK-600: 2857597\n"
     ]
    }
   ],
   "source": [
    "# Find common tank codes\n",
    "common_tanks = order_sum.index.intersection(tank_sum.index)\n",
    "\n",
    "# Subtract common tank values and print\n",
    "for tank_code in common_tanks:\n",
    "    order_value = order_sum[tank_code]\n",
    "    tank_value = tank_sum[tank_code]\n",
    "    print(f\"Tank {tank_code}: {tank_value - order_value}\")"
   ]
  },
  {
   "cell_type": "code",
   "execution_count": 223,
   "id": "f2496e81",
   "metadata": {},
   "outputs": [
    {
     "data": {
      "text/plain": [
       "Index(['BULK_MOVEMENT_ID', 'FOLIO_NUMBER', 'FROM_SUPPLIER_NUMBER',\n",
       "       'TO_SUPPLIER_NUMBER', 'TYPE', 'MOVEMENT_NUMBER', 'MOVEMENT_DATE',\n",
       "       'AIC_STATUS', 'TERMINAL_PRODUCT_NUMBER', 'CONTAINER_CODE',\n",
       "       'FIGURES_TYPE', 'GROSS_QUANTITY', 'NET_QUANTITY', 'TEMPERATURE',\n",
       "       'END_DATE'],\n",
       "      dtype='object')"
      ]
     },
     "execution_count": 223,
     "metadata": {},
     "output_type": "execute_result"
    }
   ],
   "source": [
    "merged_bulk.columns"
   ]
  },
  {
   "cell_type": "code",
   "execution_count": 224,
   "id": "afe6530d",
   "metadata": {},
   "outputs": [],
   "source": [
    "merged_bulk = merged_bulk.sort_values(by='FOLIO_NUMBER', ascending=True)\n",
    "\n",
    "# Reset index if needed\n",
    "merged_bulk.reset_index(drop=True, inplace=True)"
   ]
  },
  {
   "cell_type": "code",
   "execution_count": 225,
   "id": "166f91f6",
   "metadata": {},
   "outputs": [
    {
     "data": {
      "text/html": [
       "<div>\n",
       "<style scoped>\n",
       "    .dataframe tbody tr th:only-of-type {\n",
       "        vertical-align: middle;\n",
       "    }\n",
       "\n",
       "    .dataframe tbody tr th {\n",
       "        vertical-align: top;\n",
       "    }\n",
       "\n",
       "    .dataframe thead th {\n",
       "        text-align: right;\n",
       "    }\n",
       "</style>\n",
       "<table border=\"1\" class=\"dataframe\">\n",
       "  <thead>\n",
       "    <tr style=\"text-align: right;\">\n",
       "      <th></th>\n",
       "      <th>BULK_MOVEMENT_ID</th>\n",
       "      <th>FOLIO_NUMBER</th>\n",
       "      <th>FROM_SUPPLIER_NUMBER</th>\n",
       "      <th>TO_SUPPLIER_NUMBER</th>\n",
       "      <th>TYPE</th>\n",
       "      <th>MOVEMENT_NUMBER</th>\n",
       "      <th>MOVEMENT_DATE</th>\n",
       "      <th>AIC_STATUS</th>\n",
       "      <th>TERMINAL_PRODUCT_NUMBER</th>\n",
       "      <th>CONTAINER_CODE</th>\n",
       "      <th>FIGURES_TYPE</th>\n",
       "      <th>GROSS_QUANTITY</th>\n",
       "      <th>NET_QUANTITY</th>\n",
       "      <th>TEMPERATURE</th>\n",
       "      <th>END_DATE</th>\n",
       "    </tr>\n",
       "  </thead>\n",
       "  <tbody>\n",
       "    <tr>\n",
       "      <th>0</th>\n",
       "      <td>22545</td>\n",
       "      <td>20210928.0</td>\n",
       "      <td>NaN</td>\n",
       "      <td>1</td>\n",
       "      <td>1</td>\n",
       "      <td>519</td>\n",
       "      <td>2021-09-28 06:56:15</td>\n",
       "      <td>1</td>\n",
       "      <td>8</td>\n",
       "      <td>TK-100</td>\n",
       "      <td>1</td>\n",
       "      <td>100000</td>\n",
       "      <td>100000</td>\n",
       "      <td>15.0</td>\n",
       "      <td>2021-09-28 06:56:32</td>\n",
       "    </tr>\n",
       "    <tr>\n",
       "      <th>1</th>\n",
       "      <td>22545</td>\n",
       "      <td>20210928.0</td>\n",
       "      <td>NaN</td>\n",
       "      <td>1</td>\n",
       "      <td>1</td>\n",
       "      <td>519</td>\n",
       "      <td>2021-09-28 06:56:15</td>\n",
       "      <td>1</td>\n",
       "      <td>9</td>\n",
       "      <td>TK-200</td>\n",
       "      <td>1</td>\n",
       "      <td>100000</td>\n",
       "      <td>100000</td>\n",
       "      <td>15.0</td>\n",
       "      <td>2021-09-28 06:57:30</td>\n",
       "    </tr>\n",
       "    <tr>\n",
       "      <th>2</th>\n",
       "      <td>23263</td>\n",
       "      <td>20210928.0</td>\n",
       "      <td>NaN</td>\n",
       "      <td>5</td>\n",
       "      <td>1</td>\n",
       "      <td>536</td>\n",
       "      <td>2021-09-28 08:22:41</td>\n",
       "      <td>1</td>\n",
       "      <td>12</td>\n",
       "      <td>TK-300</td>\n",
       "      <td>1</td>\n",
       "      <td>1000000000</td>\n",
       "      <td>1000000000</td>\n",
       "      <td>15.0</td>\n",
       "      <td>2021-09-28 08:23:08</td>\n",
       "    </tr>\n",
       "    <tr>\n",
       "      <th>3</th>\n",
       "      <td>23263</td>\n",
       "      <td>20210928.0</td>\n",
       "      <td>NaN</td>\n",
       "      <td>5</td>\n",
       "      <td>1</td>\n",
       "      <td>536</td>\n",
       "      <td>2021-09-28 08:22:41</td>\n",
       "      <td>1</td>\n",
       "      <td>13</td>\n",
       "      <td>TK-400</td>\n",
       "      <td>1</td>\n",
       "      <td>10000000</td>\n",
       "      <td>10000000</td>\n",
       "      <td>15.0</td>\n",
       "      <td>2021-09-28 08:24:17</td>\n",
       "    </tr>\n",
       "    <tr>\n",
       "      <th>4</th>\n",
       "      <td>23513</td>\n",
       "      <td>20210928.0</td>\n",
       "      <td>NaN</td>\n",
       "      <td>8</td>\n",
       "      <td>1</td>\n",
       "      <td>541</td>\n",
       "      <td>2021-09-28 08:59:36</td>\n",
       "      <td>1</td>\n",
       "      <td>10</td>\n",
       "      <td>TK-500</td>\n",
       "      <td>1</td>\n",
       "      <td>10000000</td>\n",
       "      <td>10000000</td>\n",
       "      <td>15.0</td>\n",
       "      <td>2021-09-28 08:59:44</td>\n",
       "    </tr>\n",
       "    <tr>\n",
       "      <th>...</th>\n",
       "      <td>...</td>\n",
       "      <td>...</td>\n",
       "      <td>...</td>\n",
       "      <td>...</td>\n",
       "      <td>...</td>\n",
       "      <td>...</td>\n",
       "      <td>...</td>\n",
       "      <td>...</td>\n",
       "      <td>...</td>\n",
       "      <td>...</td>\n",
       "      <td>...</td>\n",
       "      <td>...</td>\n",
       "      <td>...</td>\n",
       "      <td>...</td>\n",
       "      <td>...</td>\n",
       "    </tr>\n",
       "    <tr>\n",
       "      <th>726</th>\n",
       "      <td>3091845</td>\n",
       "      <td>20230718.0</td>\n",
       "      <td>NaN</td>\n",
       "      <td>12</td>\n",
       "      <td>1</td>\n",
       "      <td>71838</td>\n",
       "      <td>2023-07-18 15:07:00</td>\n",
       "      <td>1</td>\n",
       "      <td>4</td>\n",
       "      <td>TK-105</td>\n",
       "      <td>4</td>\n",
       "      <td>761848</td>\n",
       "      <td>761848</td>\n",
       "      <td>15.0</td>\n",
       "      <td>2023-07-18 15:07:07</td>\n",
       "    </tr>\n",
       "    <tr>\n",
       "      <th>727</th>\n",
       "      <td>3091853</td>\n",
       "      <td>20230718.0</td>\n",
       "      <td>NaN</td>\n",
       "      <td>12</td>\n",
       "      <td>1</td>\n",
       "      <td>71839</td>\n",
       "      <td>2023-07-18 15:08:10</td>\n",
       "      <td>1</td>\n",
       "      <td>7</td>\n",
       "      <td>TK-103</td>\n",
       "      <td>4</td>\n",
       "      <td>5802730</td>\n",
       "      <td>5802730</td>\n",
       "      <td>15.0</td>\n",
       "      <td>2023-07-18 15:08:19</td>\n",
       "    </tr>\n",
       "    <tr>\n",
       "      <th>728</th>\n",
       "      <td>3091864</td>\n",
       "      <td>20230718.0</td>\n",
       "      <td>NaN</td>\n",
       "      <td>14</td>\n",
       "      <td>1</td>\n",
       "      <td>71840</td>\n",
       "      <td>2023-07-18 15:10:33</td>\n",
       "      <td>1</td>\n",
       "      <td>4</td>\n",
       "      <td>TK-105</td>\n",
       "      <td>1</td>\n",
       "      <td>100000</td>\n",
       "      <td>100000</td>\n",
       "      <td>15.0</td>\n",
       "      <td>2023-07-18 15:10:49</td>\n",
       "    </tr>\n",
       "    <tr>\n",
       "      <th>729</th>\n",
       "      <td>3091881</td>\n",
       "      <td>20230718.0</td>\n",
       "      <td>NaN</td>\n",
       "      <td>15</td>\n",
       "      <td>1</td>\n",
       "      <td>71841</td>\n",
       "      <td>2023-07-18 15:12:43</td>\n",
       "      <td>1</td>\n",
       "      <td>7</td>\n",
       "      <td>TK-102</td>\n",
       "      <td>4</td>\n",
       "      <td>-13192</td>\n",
       "      <td>-13192</td>\n",
       "      <td>15.0</td>\n",
       "      <td>2023-07-18 15:12:49</td>\n",
       "    </tr>\n",
       "    <tr>\n",
       "      <th>730</th>\n",
       "      <td>3091906</td>\n",
       "      <td>20230718.0</td>\n",
       "      <td>NaN</td>\n",
       "      <td>20</td>\n",
       "      <td>1</td>\n",
       "      <td>71843</td>\n",
       "      <td>2023-07-18 15:16:18</td>\n",
       "      <td>1</td>\n",
       "      <td>7</td>\n",
       "      <td>TK-102</td>\n",
       "      <td>4</td>\n",
       "      <td>-2448171</td>\n",
       "      <td>-2448171</td>\n",
       "      <td>15.0</td>\n",
       "      <td>2023-07-18 15:16:24</td>\n",
       "    </tr>\n",
       "  </tbody>\n",
       "</table>\n",
       "<p>731 rows × 15 columns</p>\n",
       "</div>"
      ],
      "text/plain": [
       "     BULK_MOVEMENT_ID  FOLIO_NUMBER  FROM_SUPPLIER_NUMBER  TO_SUPPLIER_NUMBER  \\\n",
       "0               22545    20210928.0                   NaN                   1   \n",
       "1               22545    20210928.0                   NaN                   1   \n",
       "2               23263    20210928.0                   NaN                   5   \n",
       "3               23263    20210928.0                   NaN                   5   \n",
       "4               23513    20210928.0                   NaN                   8   \n",
       "..                ...           ...                   ...                 ...   \n",
       "726           3091845    20230718.0                   NaN                  12   \n",
       "727           3091853    20230718.0                   NaN                  12   \n",
       "728           3091864    20230718.0                   NaN                  14   \n",
       "729           3091881    20230718.0                   NaN                  15   \n",
       "730           3091906    20230718.0                   NaN                  20   \n",
       "\n",
       "     TYPE  MOVEMENT_NUMBER       MOVEMENT_DATE  AIC_STATUS  \\\n",
       "0       1              519 2021-09-28 06:56:15           1   \n",
       "1       1              519 2021-09-28 06:56:15           1   \n",
       "2       1              536 2021-09-28 08:22:41           1   \n",
       "3       1              536 2021-09-28 08:22:41           1   \n",
       "4       1              541 2021-09-28 08:59:36           1   \n",
       "..    ...              ...                 ...         ...   \n",
       "726     1            71838 2023-07-18 15:07:00           1   \n",
       "727     1            71839 2023-07-18 15:08:10           1   \n",
       "728     1            71840 2023-07-18 15:10:33           1   \n",
       "729     1            71841 2023-07-18 15:12:43           1   \n",
       "730     1            71843 2023-07-18 15:16:18           1   \n",
       "\n",
       "     TERMINAL_PRODUCT_NUMBER CONTAINER_CODE  FIGURES_TYPE  GROSS_QUANTITY  \\\n",
       "0                          8         TK-100             1          100000   \n",
       "1                          9         TK-200             1          100000   \n",
       "2                         12         TK-300             1      1000000000   \n",
       "3                         13         TK-400             1        10000000   \n",
       "4                         10         TK-500             1        10000000   \n",
       "..                       ...            ...           ...             ...   \n",
       "726                        4         TK-105             4          761848   \n",
       "727                        7         TK-103             4         5802730   \n",
       "728                        4         TK-105             1          100000   \n",
       "729                        7         TK-102             4          -13192   \n",
       "730                        7         TK-102             4        -2448171   \n",
       "\n",
       "     NET_QUANTITY  TEMPERATURE            END_DATE  \n",
       "0          100000         15.0 2021-09-28 06:56:32  \n",
       "1          100000         15.0 2021-09-28 06:57:30  \n",
       "2      1000000000         15.0 2021-09-28 08:23:08  \n",
       "3        10000000         15.0 2021-09-28 08:24:17  \n",
       "4        10000000         15.0 2021-09-28 08:59:44  \n",
       "..            ...          ...                 ...  \n",
       "726        761848         15.0 2023-07-18 15:07:07  \n",
       "727       5802730         15.0 2023-07-18 15:08:19  \n",
       "728        100000         15.0 2023-07-18 15:10:49  \n",
       "729        -13192         15.0 2023-07-18 15:12:49  \n",
       "730      -2448171         15.0 2023-07-18 15:16:24  \n",
       "\n",
       "[731 rows x 15 columns]"
      ]
     },
     "execution_count": 225,
     "metadata": {},
     "output_type": "execute_result"
    }
   ],
   "source": [
    "merged_bulk"
   ]
  },
  {
   "cell_type": "code",
   "execution_count": 226,
   "id": "18d0ea0c",
   "metadata": {},
   "outputs": [],
   "source": [
    "merged_orders = pd.merge(order_recipe_merge, orders, on='ORDER_ID', how='inner')"
   ]
  },
  {
   "cell_type": "code",
   "execution_count": 227,
   "id": "483d65a1",
   "metadata": {},
   "outputs": [],
   "source": [
    "merged_orders = merged_orders.sort_values(by='FOLIO_NUMBER', ascending=True)\n",
    "\n",
    "# Reset index if needed\n",
    "merged_orders.reset_index(drop=True, inplace=True)"
   ]
  },
  {
   "cell_type": "code",
   "execution_count": 228,
   "id": "c5b8eb33",
   "metadata": {},
   "outputs": [
    {
     "data": {
      "text/html": [
       "<div>\n",
       "<style scoped>\n",
       "    .dataframe tbody tr th:only-of-type {\n",
       "        vertical-align: middle;\n",
       "    }\n",
       "\n",
       "    .dataframe tbody tr th {\n",
       "        vertical-align: top;\n",
       "    }\n",
       "\n",
       "    .dataframe thead th {\n",
       "        text-align: right;\n",
       "    }\n",
       "</style>\n",
       "<table border=\"1\" class=\"dataframe\">\n",
       "  <thead>\n",
       "    <tr style=\"text-align: right;\">\n",
       "      <th></th>\n",
       "      <th>ORDER_ID</th>\n",
       "      <th>PRODUCT_GROUP_CODE</th>\n",
       "      <th>SUPPLIER_NUMBER_x</th>\n",
       "      <th>ORDERED_QUANTITY</th>\n",
       "      <th>GROSS_QUANTITY</th>\n",
       "      <th>NET_QUANTITY</th>\n",
       "      <th>ADDITIVE_QUANTITY</th>\n",
       "      <th>PRODUCT_QUANTITY</th>\n",
       "      <th>COMPARTMENT_CONTAINER_CODE</th>\n",
       "      <th>MOVEMENT_NUMBER</th>\n",
       "      <th>SUPPLIER_NUMBER_y</th>\n",
       "      <th>FOLIO_NUMBER</th>\n",
       "    </tr>\n",
       "  </thead>\n",
       "  <tbody>\n",
       "    <tr>\n",
       "      <th>0</th>\n",
       "      <td>8320</td>\n",
       "      <td>DSL</td>\n",
       "      <td>12</td>\n",
       "      <td>100</td>\n",
       "      <td>0</td>\n",
       "      <td>0</td>\n",
       "      <td>0</td>\n",
       "      <td>0</td>\n",
       "      <td>NaN</td>\n",
       "      <td>186</td>\n",
       "      <td>12</td>\n",
       "      <td>20210927.0</td>\n",
       "    </tr>\n",
       "    <tr>\n",
       "      <th>1</th>\n",
       "      <td>20678</td>\n",
       "      <td>DSL</td>\n",
       "      <td>13</td>\n",
       "      <td>2000</td>\n",
       "      <td>1996</td>\n",
       "      <td>1977</td>\n",
       "      <td>0</td>\n",
       "      <td>0</td>\n",
       "      <td>TK-205</td>\n",
       "      <td>474</td>\n",
       "      <td>13</td>\n",
       "      <td>20210927.0</td>\n",
       "    </tr>\n",
       "    <tr>\n",
       "      <th>2</th>\n",
       "      <td>20678</td>\n",
       "      <td>DSL</td>\n",
       "      <td>13</td>\n",
       "      <td>5000</td>\n",
       "      <td>4998</td>\n",
       "      <td>4950</td>\n",
       "      <td>0</td>\n",
       "      <td>0</td>\n",
       "      <td>TK-205</td>\n",
       "      <td>474</td>\n",
       "      <td>13</td>\n",
       "      <td>20210927.0</td>\n",
       "    </tr>\n",
       "    <tr>\n",
       "      <th>3</th>\n",
       "      <td>20678</td>\n",
       "      <td>DSL</td>\n",
       "      <td>13</td>\n",
       "      <td>6000</td>\n",
       "      <td>5997</td>\n",
       "      <td>5940</td>\n",
       "      <td>0</td>\n",
       "      <td>0</td>\n",
       "      <td>TK-205</td>\n",
       "      <td>474</td>\n",
       "      <td>13</td>\n",
       "      <td>20210927.0</td>\n",
       "    </tr>\n",
       "    <tr>\n",
       "      <th>4</th>\n",
       "      <td>20678</td>\n",
       "      <td>DSL</td>\n",
       "      <td>13</td>\n",
       "      <td>10000</td>\n",
       "      <td>9995</td>\n",
       "      <td>9900</td>\n",
       "      <td>0</td>\n",
       "      <td>0</td>\n",
       "      <td>TK-205</td>\n",
       "      <td>474</td>\n",
       "      <td>13</td>\n",
       "      <td>20210927.0</td>\n",
       "    </tr>\n",
       "    <tr>\n",
       "      <th>...</th>\n",
       "      <td>...</td>\n",
       "      <td>...</td>\n",
       "      <td>...</td>\n",
       "      <td>...</td>\n",
       "      <td>...</td>\n",
       "      <td>...</td>\n",
       "      <td>...</td>\n",
       "      <td>...</td>\n",
       "      <td>...</td>\n",
       "      <td>...</td>\n",
       "      <td>...</td>\n",
       "      <td>...</td>\n",
       "    </tr>\n",
       "    <tr>\n",
       "      <th>456148</th>\n",
       "      <td>1675285</td>\n",
       "      <td>HFO</td>\n",
       "      <td>1</td>\n",
       "      <td>0</td>\n",
       "      <td>0</td>\n",
       "      <td>0</td>\n",
       "      <td>0</td>\n",
       "      <td>0</td>\n",
       "      <td>TK-301</td>\n",
       "      <td>39082</td>\n",
       "      <td>1</td>\n",
       "      <td>NaN</td>\n",
       "    </tr>\n",
       "    <tr>\n",
       "      <th>456149</th>\n",
       "      <td>2471753</td>\n",
       "      <td>DSL</td>\n",
       "      <td>12</td>\n",
       "      <td>5000</td>\n",
       "      <td>5000</td>\n",
       "      <td>4979</td>\n",
       "      <td>0</td>\n",
       "      <td>0</td>\n",
       "      <td>TK-103</td>\n",
       "      <td>56539</td>\n",
       "      <td>12</td>\n",
       "      <td>NaN</td>\n",
       "    </tr>\n",
       "    <tr>\n",
       "      <th>456150</th>\n",
       "      <td>2471753</td>\n",
       "      <td>DSL</td>\n",
       "      <td>12</td>\n",
       "      <td>2000</td>\n",
       "      <td>2000</td>\n",
       "      <td>1992</td>\n",
       "      <td>0</td>\n",
       "      <td>0</td>\n",
       "      <td>TK-103</td>\n",
       "      <td>56539</td>\n",
       "      <td>12</td>\n",
       "      <td>NaN</td>\n",
       "    </tr>\n",
       "    <tr>\n",
       "      <th>456151</th>\n",
       "      <td>2471753</td>\n",
       "      <td>DSL</td>\n",
       "      <td>12</td>\n",
       "      <td>3000</td>\n",
       "      <td>3000</td>\n",
       "      <td>2988</td>\n",
       "      <td>0</td>\n",
       "      <td>0</td>\n",
       "      <td>TK-103</td>\n",
       "      <td>56539</td>\n",
       "      <td>12</td>\n",
       "      <td>NaN</td>\n",
       "    </tr>\n",
       "    <tr>\n",
       "      <th>456152</th>\n",
       "      <td>2471753</td>\n",
       "      <td>DSL</td>\n",
       "      <td>12</td>\n",
       "      <td>4000</td>\n",
       "      <td>4000</td>\n",
       "      <td>3985</td>\n",
       "      <td>0</td>\n",
       "      <td>0</td>\n",
       "      <td>TK-103</td>\n",
       "      <td>56539</td>\n",
       "      <td>12</td>\n",
       "      <td>NaN</td>\n",
       "    </tr>\n",
       "  </tbody>\n",
       "</table>\n",
       "<p>456153 rows × 12 columns</p>\n",
       "</div>"
      ],
      "text/plain": [
       "        ORDER_ID PRODUCT_GROUP_CODE  SUPPLIER_NUMBER_x  ORDERED_QUANTITY  \\\n",
       "0           8320                DSL                 12               100   \n",
       "1          20678                DSL                 13              2000   \n",
       "2          20678                DSL                 13              5000   \n",
       "3          20678                DSL                 13              6000   \n",
       "4          20678                DSL                 13             10000   \n",
       "...          ...                ...                ...               ...   \n",
       "456148   1675285                HFO                  1                 0   \n",
       "456149   2471753                DSL                 12              5000   \n",
       "456150   2471753                DSL                 12              2000   \n",
       "456151   2471753                DSL                 12              3000   \n",
       "456152   2471753                DSL                 12              4000   \n",
       "\n",
       "        GROSS_QUANTITY  NET_QUANTITY  ADDITIVE_QUANTITY  PRODUCT_QUANTITY  \\\n",
       "0                    0             0                  0                 0   \n",
       "1                 1996          1977                  0                 0   \n",
       "2                 4998          4950                  0                 0   \n",
       "3                 5997          5940                  0                 0   \n",
       "4                 9995          9900                  0                 0   \n",
       "...                ...           ...                ...               ...   \n",
       "456148               0             0                  0                 0   \n",
       "456149            5000          4979                  0                 0   \n",
       "456150            2000          1992                  0                 0   \n",
       "456151            3000          2988                  0                 0   \n",
       "456152            4000          3985                  0                 0   \n",
       "\n",
       "       COMPARTMENT_CONTAINER_CODE  MOVEMENT_NUMBER  SUPPLIER_NUMBER_y  \\\n",
       "0                             NaN              186                 12   \n",
       "1                          TK-205              474                 13   \n",
       "2                          TK-205              474                 13   \n",
       "3                          TK-205              474                 13   \n",
       "4                          TK-205              474                 13   \n",
       "...                           ...              ...                ...   \n",
       "456148                     TK-301            39082                  1   \n",
       "456149                     TK-103            56539                 12   \n",
       "456150                     TK-103            56539                 12   \n",
       "456151                     TK-103            56539                 12   \n",
       "456152                     TK-103            56539                 12   \n",
       "\n",
       "        FOLIO_NUMBER  \n",
       "0         20210927.0  \n",
       "1         20210927.0  \n",
       "2         20210927.0  \n",
       "3         20210927.0  \n",
       "4         20210927.0  \n",
       "...              ...  \n",
       "456148           NaN  \n",
       "456149           NaN  \n",
       "456150           NaN  \n",
       "456151           NaN  \n",
       "456152           NaN  \n",
       "\n",
       "[456153 rows x 12 columns]"
      ]
     },
     "execution_count": 228,
     "metadata": {},
     "output_type": "execute_result"
    }
   ],
   "source": [
    "merged_orders"
   ]
  },
  {
   "cell_type": "code",
   "execution_count": 231,
   "id": "a261c972",
   "metadata": {},
   "outputs": [],
   "source": [
    "# Find common folio numbers\n",
    "common_folio_numbers = merged_bulk['FOLIO_NUMBER'][merged_bulk['FOLIO_NUMBER'].isin(merged_orders['FOLIO_NUMBER'])]"
   ]
  },
  {
   "cell_type": "code",
   "execution_count": 232,
   "id": "ec1d376f",
   "metadata": {},
   "outputs": [
    {
     "data": {
      "text/plain": [
       "0      20210928.0\n",
       "1      20210928.0\n",
       "2      20210928.0\n",
       "3      20210928.0\n",
       "4      20210928.0\n",
       "          ...    \n",
       "673    20230607.0\n",
       "674    20230607.0\n",
       "675    20230607.0\n",
       "676    20230608.0\n",
       "677    20230608.0\n",
       "Name: FOLIO_NUMBER, Length: 678, dtype: float64"
      ]
     },
     "execution_count": 232,
     "metadata": {},
     "output_type": "execute_result"
    }
   ],
   "source": [
    "common_folio_numbers"
   ]
  },
  {
   "cell_type": "code",
   "execution_count": 233,
   "id": "cd423b19",
   "metadata": {},
   "outputs": [
    {
     "ename": "KeyError",
     "evalue": "'FOLIO_NUMBER'",
     "output_type": "error",
     "traceback": [
      "\u001b[1;31m---------------------------------------------------------------------------\u001b[0m",
      "\u001b[1;31mKeyError\u001b[0m                                  Traceback (most recent call last)",
      "File \u001b[1;32m~\\anaconda3\\Lib\\site-packages\\pandas\\core\\indexes\\base.py:3653\u001b[0m, in \u001b[0;36mIndex.get_loc\u001b[1;34m(self, key)\u001b[0m\n\u001b[0;32m   3652\u001b[0m \u001b[38;5;28;01mtry\u001b[39;00m:\n\u001b[1;32m-> 3653\u001b[0m     \u001b[38;5;28;01mreturn\u001b[39;00m \u001b[38;5;28mself\u001b[39m\u001b[38;5;241m.\u001b[39m_engine\u001b[38;5;241m.\u001b[39mget_loc(casted_key)\n\u001b[0;32m   3654\u001b[0m \u001b[38;5;28;01mexcept\u001b[39;00m \u001b[38;5;167;01mKeyError\u001b[39;00m \u001b[38;5;28;01mas\u001b[39;00m err:\n",
      "File \u001b[1;32m~\\anaconda3\\Lib\\site-packages\\pandas\\_libs\\index.pyx:147\u001b[0m, in \u001b[0;36mpandas._libs.index.IndexEngine.get_loc\u001b[1;34m()\u001b[0m\n",
      "File \u001b[1;32m~\\anaconda3\\Lib\\site-packages\\pandas\\_libs\\index.pyx:176\u001b[0m, in \u001b[0;36mpandas._libs.index.IndexEngine.get_loc\u001b[1;34m()\u001b[0m\n",
      "File \u001b[1;32mpandas\\_libs\\hashtable_class_helper.pxi:7080\u001b[0m, in \u001b[0;36mpandas._libs.hashtable.PyObjectHashTable.get_item\u001b[1;34m()\u001b[0m\n",
      "File \u001b[1;32mpandas\\_libs\\hashtable_class_helper.pxi:7088\u001b[0m, in \u001b[0;36mpandas._libs.hashtable.PyObjectHashTable.get_item\u001b[1;34m()\u001b[0m\n",
      "\u001b[1;31mKeyError\u001b[0m: 'FOLIO_NUMBER'",
      "\nThe above exception was the direct cause of the following exception:\n",
      "\u001b[1;31mKeyError\u001b[0m                                  Traceback (most recent call last)",
      "Cell \u001b[1;32mIn[233], line 2\u001b[0m\n\u001b[0;32m      1\u001b[0m \u001b[38;5;66;03m# Filter order_recipe_merge based on common folio numbers\u001b[39;00m\n\u001b[1;32m----> 2\u001b[0m filtered_order_recipe_merge \u001b[38;5;241m=\u001b[39m order_recipe_merge[order_recipe_merge[\u001b[38;5;124m'\u001b[39m\u001b[38;5;124mFOLIO_NUMBER\u001b[39m\u001b[38;5;124m'\u001b[39m]\u001b[38;5;241m.\u001b[39misin(common_folio_numbers)]\n\u001b[0;32m      4\u001b[0m \u001b[38;5;66;03m# Group by 'COMPARTMENT_CONTAINER_CODE' and calculate the sum of 'GROSS_QUANTITY' for each tank\u001b[39;00m\n\u001b[0;32m      5\u001b[0m order_sum \u001b[38;5;241m=\u001b[39m filtered_order_recipe_merge\u001b[38;5;241m.\u001b[39mgroupby(\u001b[38;5;124m'\u001b[39m\u001b[38;5;124mCOMPARTMENT_CONTAINER_CODE\u001b[39m\u001b[38;5;124m'\u001b[39m)[\u001b[38;5;124m'\u001b[39m\u001b[38;5;124mGROSS_QUANTITY\u001b[39m\u001b[38;5;124m'\u001b[39m]\u001b[38;5;241m.\u001b[39msum()\n",
      "File \u001b[1;32m~\\anaconda3\\Lib\\site-packages\\pandas\\core\\frame.py:3761\u001b[0m, in \u001b[0;36mDataFrame.__getitem__\u001b[1;34m(self, key)\u001b[0m\n\u001b[0;32m   3759\u001b[0m \u001b[38;5;28;01mif\u001b[39;00m \u001b[38;5;28mself\u001b[39m\u001b[38;5;241m.\u001b[39mcolumns\u001b[38;5;241m.\u001b[39mnlevels \u001b[38;5;241m>\u001b[39m \u001b[38;5;241m1\u001b[39m:\n\u001b[0;32m   3760\u001b[0m     \u001b[38;5;28;01mreturn\u001b[39;00m \u001b[38;5;28mself\u001b[39m\u001b[38;5;241m.\u001b[39m_getitem_multilevel(key)\n\u001b[1;32m-> 3761\u001b[0m indexer \u001b[38;5;241m=\u001b[39m \u001b[38;5;28mself\u001b[39m\u001b[38;5;241m.\u001b[39mcolumns\u001b[38;5;241m.\u001b[39mget_loc(key)\n\u001b[0;32m   3762\u001b[0m \u001b[38;5;28;01mif\u001b[39;00m is_integer(indexer):\n\u001b[0;32m   3763\u001b[0m     indexer \u001b[38;5;241m=\u001b[39m [indexer]\n",
      "File \u001b[1;32m~\\anaconda3\\Lib\\site-packages\\pandas\\core\\indexes\\base.py:3655\u001b[0m, in \u001b[0;36mIndex.get_loc\u001b[1;34m(self, key)\u001b[0m\n\u001b[0;32m   3653\u001b[0m     \u001b[38;5;28;01mreturn\u001b[39;00m \u001b[38;5;28mself\u001b[39m\u001b[38;5;241m.\u001b[39m_engine\u001b[38;5;241m.\u001b[39mget_loc(casted_key)\n\u001b[0;32m   3654\u001b[0m \u001b[38;5;28;01mexcept\u001b[39;00m \u001b[38;5;167;01mKeyError\u001b[39;00m \u001b[38;5;28;01mas\u001b[39;00m err:\n\u001b[1;32m-> 3655\u001b[0m     \u001b[38;5;28;01mraise\u001b[39;00m \u001b[38;5;167;01mKeyError\u001b[39;00m(key) \u001b[38;5;28;01mfrom\u001b[39;00m \u001b[38;5;21;01merr\u001b[39;00m\n\u001b[0;32m   3656\u001b[0m \u001b[38;5;28;01mexcept\u001b[39;00m \u001b[38;5;167;01mTypeError\u001b[39;00m:\n\u001b[0;32m   3657\u001b[0m     \u001b[38;5;66;03m# If we have a listlike key, _check_indexing_error will raise\u001b[39;00m\n\u001b[0;32m   3658\u001b[0m     \u001b[38;5;66;03m#  InvalidIndexError. Otherwise we fall through and re-raise\u001b[39;00m\n\u001b[0;32m   3659\u001b[0m     \u001b[38;5;66;03m#  the TypeError.\u001b[39;00m\n\u001b[0;32m   3660\u001b[0m     \u001b[38;5;28mself\u001b[39m\u001b[38;5;241m.\u001b[39m_check_indexing_error(key)\n",
      "\u001b[1;31mKeyError\u001b[0m: 'FOLIO_NUMBER'"
     ]
    }
   ],
   "source": [
    "# Filter order_recipe_merge based on common folio numbers\n",
    "filtered_order_recipe_merge = order_recipe_merge[order_recipe_merge['FOLIO_NUMBER'].isin(common_folio_numbers)]\n",
    "\n",
    "# Group by 'COMPARTMENT_CONTAINER_CODE' and calculate the sum of 'GROSS_QUANTITY' for each tank\n",
    "order_sum = filtered_order_recipe_merge.groupby('COMPARTMENT_CONTAINER_CODE')['GROSS_QUANTITY'].sum()\n"
   ]
  },
  {
   "cell_type": "code",
   "execution_count": null,
   "id": "1035b565",
   "metadata": {},
   "outputs": [],
   "source": []
  }
 ],
 "metadata": {
  "kernelspec": {
   "display_name": "Python 3 (ipykernel)",
   "language": "python",
   "name": "python3"
  },
  "language_info": {
   "codemirror_mode": {
    "name": "ipython",
    "version": 3
   },
   "file_extension": ".py",
   "mimetype": "text/x-python",
   "name": "python",
   "nbconvert_exporter": "python",
   "pygments_lexer": "ipython3",
   "version": "3.11.5"
  }
 },
 "nbformat": 4,
 "nbformat_minor": 5
}

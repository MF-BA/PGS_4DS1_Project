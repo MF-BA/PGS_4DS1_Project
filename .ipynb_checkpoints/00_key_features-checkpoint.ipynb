{
 "cells": [
  {
   "cell_type": "markdown",
   "id": "0",
   "metadata": {
    "id": "0"
   },
   "source": [
    "# Key Features\n",
    "\n",
    "You can try out leafmap by using the cloud-computing platforms below without having to install anything on your computer:\n",
    "\n",
    "[![image](https://jupyterlite.rtfd.io/en/latest/_static/badge.svg)](https://demo.leafmap.org/lab/index.html?path=notebooks/00_key_features.ipynb)\n",
    "[![image](https://studiolab.sagemaker.aws/studiolab.svg)](https://studiolab.sagemaker.aws/import/github/opengeos/leafmap/blob/master/examples/notebooks/00_key_features.ipynb)\n",
    "[![image](https://img.shields.io/badge/Open-Planetary%20Computer-black?style=flat&logo=microsoft)](https://pccompute.westeurope.cloudapp.azure.com/compute/hub/user-redirect/git-pull?repo=https://github.com/opengeos/leafmap&urlpath=lab/tree/leafmap/examples/notebooks/00_key_features.ipynb&branch=master)\n",
    "[![image](https://colab.research.google.com/assets/colab-badge.svg)](https://colab.research.google.com/github/opengeos/leafmap/blob/master)\n",
    "[![image](https://mybinder.org/badge_logo.svg)](https://mybinder.org/v2/gh/opengeos/leafmap/HEAD)"
   ]
  },
  {
   "cell_type": "markdown",
   "id": "1",
   "metadata": {
    "id": "1"
   },
   "source": [
    "## Install leafmap"
   ]
  },
  {
   "cell_type": "code",
   "execution_count": 5,
   "id": "2",
   "metadata": {
    "id": "2"
   },
   "outputs": [],
   "source": [
    "# !pip install leafmap geopandas pycrs osmnx"
   ]
  },
  {
   "cell_type": "markdown",
   "id": "3",
   "metadata": {
    "id": "3"
   },
   "source": [
    "## Use ipyleaflet plotting backend"
   ]
  },
  {
   "cell_type": "code",
   "execution_count": 6,
   "id": "4",
   "metadata": {
    "id": "4"
   },
   "outputs": [],
   "source": [
    "import os\n",
    "import leafmap"
   ]
  },
  {
   "cell_type": "code",
   "execution_count": 8,
   "id": "bLZHLjHApCIh",
   "metadata": {
    "colab": {
     "base_uri": "https://localhost:8080/",
     "height": 621,
     "referenced_widgets": [
      "b29d13dfd08043e1bc10bf99ff25e972",
      "ef982f7401014c0682fb56631057a3c9",
      "c583ee871abe4389912dae117b30d428",
      "bc45168efe274a74b403092732e23b70",
      "2d93467c611c44e69eb8da355c70ca0f",
      "06b15213385e49c1b0576c86675b4157",
      "15b42db7d0c54f639b0a1a704b8c763f",
      "ed3a2f03f22641d4917f980fd3da17f4",
      "d7d119a2ee64436384517c7e39dc0eba",
      "83d3cd07b748448bb2732f62be4a10b2",
      "4546f71716664229a9d8502d1e7deea3",
      "8f244cf9de0e4c0aaa00ef4764502b5d",
      "e767ae8b7e304f4aae14e6a3e5d296b7",
      "844a821bb06f47dbba4d018ef95794ac",
      "c575f93a6e914ab0803cd679c85ec14b",
      "a0ffe56132fc4277959b14f3cc6ab2b1",
      "b8a8028dd0a94757958d4448a672c889"
     ]
    },
    "id": "bLZHLjHApCIh",
    "outputId": "a9af97b6-cdc3-4a12-8e28-b2dddc938aa8"
   },
   "outputs": [
    {
     "data": {
      "application/vnd.jupyter.widget-view+json": {
       "model_id": "b29d13dfd08043e1bc10bf99ff25e972",
       "version_major": 2,
       "version_minor": 0
      },
      "text/plain": [
       "Map(center=[51.52738771088042, -0.15355043538426116], controls=(ZoomControl(options=['position', 'zoom_in_text…"
      ]
     },
     "metadata": {
      "application/vnd.jupyter.widget-view+json": {
       "colab": {
        "custom_widget_manager": {
         "url": "https://ssl.gstatic.com/colaboratory-static/widgets/colab-cdn-widget-manager/2b70e893a8ba7c0f/manager.min.js"
        }
       }
      }
     },
     "output_type": "display_data"
    }
   ],
   "source": [
    "m = leafmap.Map(center=[51.52738771088042, -0.15355043538426116], zoom=14, height=600)\n",
    "m"
   ]
  },
  {
   "cell_type": "markdown",
   "id": "5",
   "metadata": {
    "id": "5"
   },
   "source": [
    "## Create an interactive map"
   ]
  },
  {
   "cell_type": "code",
   "execution_count": 7,
   "id": "6",
   "metadata": {
    "colab": {
     "base_uri": "https://localhost:8080/",
     "height": 621,
     "referenced_widgets": [
      "d04e1871c0334373841902636ada5af5",
      "0bb3ed9b99274976b85d3b5a17578796",
      "44970cd01b4a4bbbbc648d86465d1816",
      "32569958115e48fdb5828982914060b1",
      "2b04286f710f4a6eb7add00f746b1931",
      "faf4f43100fb44f1a2d2dba7c658030e",
      "686c3c9fb32c444fb18824cef268c40c",
      "4ab9a6b9f80f442683c78d14737001eb",
      "3f550316cdd14d2eb844acf3d6a1e11b",
      "79bebef8ef4c434e901d3b43140d9922",
      "9efcfbb42cb64ee9959a4ae072724cdd",
      "0f8e62e54b4f42cd9f1f3e5738fae241",
      "b22e147c9b334d678c63d3898efb7a2e",
      "2560dfa917f242fe8730c39d1f9f57a2",
      "0ff036917de34889b28ffe0676a43423",
      "1509c45c80e64a33a803e6039f29fe06",
      "5cbc911b08254cd49d4dbea76d25f62c"
     ]
    },
    "id": "6",
    "outputId": "02a03415-cdb2-435e-f9ac-d001f103f4af"
   },
   "outputs": [
    {
     "data": {
      "application/vnd.jupyter.widget-view+json": {
       "model_id": "d04e1871c0334373841902636ada5af5",
       "version_major": 2,
       "version_minor": 0
      },
      "text/plain": [
       "Map(center=[40, -100], controls=(ZoomControl(options=['position', 'zoom_in_text', 'zoom_in_title', 'zoom_out_t…"
      ]
     },
     "metadata": {
      "application/vnd.jupyter.widget-view+json": {
       "colab": {
        "custom_widget_manager": {
         "url": "https://ssl.gstatic.com/colaboratory-static/widgets/colab-cdn-widget-manager/2b70e893a8ba7c0f/manager.min.js"
        }
       }
      }
     },
     "output_type": "display_data"
    }
   ],
   "source": [
    "m = leafmap.Map(center=(40, -100), zoom=4)\n",
    "m"
   ]
  },
  {
   "cell_type": "markdown",
   "id": "7",
   "metadata": {
    "id": "7"
   },
   "source": [
    "## Customize map height"
   ]
  },
  {
   "cell_type": "code",
   "execution_count": null,
   "id": "8",
   "metadata": {
    "id": "8"
   },
   "outputs": [],
   "source": [
    "m = leafmap.Map(height=\"400px\", width=\"800px\")\n",
    "m"
   ]
  },
  {
   "cell_type": "markdown",
   "id": "9",
   "metadata": {
    "id": "9"
   },
   "source": [
    "## Set control visibility"
   ]
  },
  {
   "cell_type": "code",
   "execution_count": null,
   "id": "10",
   "metadata": {
    "id": "10"
   },
   "outputs": [],
   "source": [
    "m = leafmap.Map(\n",
    "    draw_control=False,\n",
    "    measure_control=False,\n",
    "    fullscreen_control=False,\n",
    "    attribution_control=True,\n",
    ")\n",
    "m"
   ]
  },
  {
   "cell_type": "markdown",
   "id": "11",
   "metadata": {
    "id": "11"
   },
   "source": [
    "## Change basemaps"
   ]
  },
  {
   "cell_type": "code",
   "execution_count": null,
   "id": "12",
   "metadata": {
    "id": "12"
   },
   "outputs": [],
   "source": [
    "m = leafmap.Map()\n",
    "m.add_basemap(\"OpenTopoMap\")\n",
    "m"
   ]
  },
  {
   "cell_type": "markdown",
   "id": "13",
   "metadata": {
    "id": "13"
   },
   "source": [
    "## Add XYZ tile layer"
   ]
  },
  {
   "cell_type": "code",
   "execution_count": null,
   "id": "14",
   "metadata": {
    "id": "14"
   },
   "outputs": [],
   "source": [
    "m = leafmap.Map()\n",
    "m.add_tile_layer(\n",
    "    url=\"https://mt1.google.com/vt/lyrs=y&x={x}&y={y}&z={z}\",\n",
    "    name=\"Google Satellite\",\n",
    "    attribution=\"Google\",\n",
    ")\n",
    "m"
   ]
  },
  {
   "cell_type": "markdown",
   "id": "15",
   "metadata": {
    "id": "15"
   },
   "source": [
    "## Add WMS tile layer"
   ]
  },
  {
   "cell_type": "code",
   "execution_count": null,
   "id": "16",
   "metadata": {
    "id": "16"
   },
   "outputs": [],
   "source": [
    "m = leafmap.Map(center=[40, -100], zoom=4)\n",
    "naip_url = \"https://www.mrlc.gov/geoserver/mrlc_display/NLCD_2019_Land_Cover_L48/wms?\"\n",
    "m.add_wms_layer(\n",
    "    url=naip_url,\n",
    "    layers=\"NLCD_2019_Land_Cover_L48\",\n",
    "    name=\"NLCD 2019\",\n",
    "    attribution=\"MRLC\",\n",
    "    format=\"image/png\",\n",
    "    shown=True,\n",
    ")\n",
    "m.add_legend(title=\"NLCD Land Cover Type\", builtin_legend=\"NLCD\")\n",
    "m"
   ]
  },
  {
   "cell_type": "markdown",
   "id": "17",
   "metadata": {
    "id": "17"
   },
   "source": [
    "## Add COG layer"
   ]
  },
  {
   "cell_type": "code",
   "execution_count": null,
   "id": "18",
   "metadata": {
    "id": "18"
   },
   "outputs": [],
   "source": [
    "m = leafmap.Map()\n",
    "url = \"https://github.com/opengeos/data/releases/download/raster/Libya-2023-07-01.tif\"\n",
    "m.add_cog_layer(url, name=\"Fire (pre-event)\")\n",
    "m"
   ]
  },
  {
   "cell_type": "markdown",
   "id": "19",
   "metadata": {
    "id": "19"
   },
   "source": [
    "## Add STAC layer"
   ]
  },
  {
   "cell_type": "code",
   "execution_count": null,
   "id": "20",
   "metadata": {
    "id": "20"
   },
   "outputs": [],
   "source": [
    "m = leafmap.Map()\n",
    "url = \"https://canada-spot-ortho.s3.amazonaws.com/canada_spot_orthoimages/canada_spot5_orthoimages/S5_2007/S5_11055_6057_20070622/S5_11055_6057_20070622.json\"\n",
    "m.add_stac_layer(url, bands=[\"B3\", \"B2\", \"B1\"], name=\"False color\")\n",
    "m"
   ]
  },
  {
   "cell_type": "markdown",
   "id": "21",
   "metadata": {
    "id": "21"
   },
   "source": [
    "## Add legend"
   ]
  },
  {
   "cell_type": "code",
   "execution_count": null,
   "id": "22",
   "metadata": {
    "id": "22"
   },
   "outputs": [],
   "source": [
    "m = leafmap.Map()\n",
    "url = \"https://www.mrlc.gov/geoserver/mrlc_display/NLCD_2016_Land_Cover_L48/wms?\"\n",
    "m.add_wms_layer(\n",
    "    url,\n",
    "    layers=\"NLCD_2016_Land_Cover_L48\",\n",
    "    name=\"NLCD 2016 CONUS Land Cover\",\n",
    "    format=\"image/png\",\n",
    "    transparent=True,\n",
    ")\n",
    "m.add_legend(builtin_legend=\"NLCD\")\n",
    "m"
   ]
  },
  {
   "cell_type": "markdown",
   "id": "23",
   "metadata": {
    "id": "23"
   },
   "source": [
    "## Add colorbar"
   ]
  },
  {
   "cell_type": "code",
   "execution_count": null,
   "id": "24",
   "metadata": {
    "id": "24"
   },
   "outputs": [],
   "source": [
    "m = leafmap.Map()\n",
    "m.add_basemap(\"USGS 3DEP Elevation\")\n",
    "colors = [\"006633\", \"E5FFCC\", \"662A00\", \"D8D8D8\", \"F5F5F5\"]\n",
    "vmin = 0\n",
    "vmax = 4000\n",
    "m.add_colorbar(colors=colors, vmin=vmin, vmax=vmax)\n",
    "m"
   ]
  },
  {
   "cell_type": "markdown",
   "id": "25",
   "metadata": {
    "id": "25"
   },
   "source": [
    "## Add GeoJSON"
   ]
  },
  {
   "cell_type": "code",
   "execution_count": null,
   "id": "26",
   "metadata": {
    "id": "26"
   },
   "outputs": [],
   "source": [
    "m = leafmap.Map(center=[0, 0], zoom=2)\n",
    "in_geojson = \"https://raw.githubusercontent.com/opengeos/leafmap/master/examples/data/cable_geo.geojson\"\n",
    "m.add_geojson(in_geojson, layer_name=\"Cable lines\")\n",
    "m"
   ]
  },
  {
   "cell_type": "code",
   "execution_count": null,
   "id": "27",
   "metadata": {
    "id": "27"
   },
   "outputs": [],
   "source": [
    "# Add a GeoJSON with random filled color to the map.\n",
    "m = leafmap.Map(center=[0, 0], zoom=2)\n",
    "url = \"https://raw.githubusercontent.com/opengeos/leafmap/master/examples/data/countries.geojson\"\n",
    "style = {\"fillOpacity\": 0.5}\n",
    "m.add_geojson(\n",
    "    url,\n",
    "    layer_name=\"Countries\",\n",
    "    style=style,\n",
    "    fill_colors=[\"red\", \"yellow\", \"green\", \"orange\"],\n",
    ")\n",
    "m"
   ]
  },
  {
   "cell_type": "code",
   "execution_count": null,
   "id": "28",
   "metadata": {
    "id": "28"
   },
   "outputs": [],
   "source": [
    "# Use custom style and hover_style functions.\n",
    "m = leafmap.Map(center=[0, 0], zoom=2)\n",
    "url = \"https://raw.githubusercontent.com/opengeos/leafmap/master/examples/data/countries.geojson\"\n",
    "style = {\n",
    "    \"stroke\": True,\n",
    "    \"color\": \"#0000ff\",\n",
    "    \"weight\": 2,\n",
    "    \"opacity\": 1,\n",
    "    \"fill\": True,\n",
    "    \"fillColor\": \"#0000ff\",\n",
    "    \"fillOpacity\": 0.1,\n",
    "}\n",
    "hover_style = {\"fillOpacity\": 0.7}\n",
    "m.add_geojson(url, layer_name=\"Countries\", style=style, hover_style=hover_style)\n",
    "m"
   ]
  },
  {
   "cell_type": "markdown",
   "id": "29",
   "metadata": {
    "id": "29"
   },
   "source": [
    "## Add shapefile"
   ]
  },
  {
   "cell_type": "code",
   "execution_count": null,
   "id": "30",
   "metadata": {
    "id": "30"
   },
   "outputs": [],
   "source": [
    "m = leafmap.Map(center=[0, 0], zoom=2)\n",
    "in_shp = \"https://github.com/opengeos/leafmap/raw/master/examples/data/countries.zip\"\n",
    "m.add_shp(in_shp, layer_name=\"Countries\")\n",
    "m"
   ]
  },
  {
   "cell_type": "markdown",
   "id": "31",
   "metadata": {
    "id": "31"
   },
   "source": [
    "## Add KML"
   ]
  },
  {
   "cell_type": "code",
   "execution_count": null,
   "id": "32",
   "metadata": {
    "id": "32"
   },
   "outputs": [],
   "source": [
    "try:\n",
    "    import geopandas\n",
    "except ImportError:\n",
    "    print(\"Installing geopandas ...\")\n",
    "    subprocess.check_call([\"python\", \"-m\", \"pip\", \"install\", \"geopandas\"])"
   ]
  },
  {
   "cell_type": "code",
   "execution_count": null,
   "id": "33",
   "metadata": {
    "id": "33"
   },
   "outputs": [],
   "source": [
    "m = leafmap.Map()\n",
    "in_kml = \"https://raw.githubusercontent.com/opengeos/leafmap/master/examples/data/us_states.kml\"\n",
    "m.add_kml(in_kml, layer_name=\"US States KML\")\n",
    "m"
   ]
  },
  {
   "cell_type": "markdown",
   "id": "34",
   "metadata": {
    "id": "34"
   },
   "source": [
    "## Add GeoDataFrame"
   ]
  },
  {
   "cell_type": "code",
   "execution_count": null,
   "id": "35",
   "metadata": {
    "id": "35"
   },
   "outputs": [],
   "source": [
    "import geopandas as gpd\n",
    "\n",
    "m = leafmap.Map()\n",
    "gdf = gpd.read_file(\n",
    "    \"https://github.com/opengeos/leafmap/raw/master/examples/data/cable_geo.geojson\"\n",
    ")\n",
    "m.add_gdf(gdf, layer_name=\"Cable lines\")\n",
    "m"
   ]
  },
  {
   "cell_type": "markdown",
   "id": "36",
   "metadata": {
    "id": "36"
   },
   "source": [
    "## Create heat map"
   ]
  },
  {
   "cell_type": "code",
   "execution_count": null,
   "id": "37",
   "metadata": {
    "id": "37"
   },
   "outputs": [],
   "source": [
    "m = leafmap.Map()\n",
    "in_csv = \"https://raw.githubusercontent.com/opengeos/leafmap/master/examples/data/world_cities.csv\"\n",
    "m.add_heatmap(\n",
    "    in_csv,\n",
    "    latitude=\"latitude\",\n",
    "    longitude=\"longitude\",\n",
    "    value=\"pop_max\",\n",
    "    name=\"Heat map\",\n",
    "    radius=20,\n",
    ")"
   ]
  },
  {
   "cell_type": "code",
   "execution_count": null,
   "id": "38",
   "metadata": {
    "id": "38"
   },
   "outputs": [],
   "source": [
    "colors = [\"blue\", \"lime\", \"red\"]\n",
    "vmin = 0\n",
    "vmax = 10000\n",
    "m.add_colorbar(colors=colors, vmin=vmin, vmax=vmax)\n",
    "m.add_title(\"World Population Heat Map\", font_size=\"20px\", align=\"center\")\n",
    "m"
   ]
  },
  {
   "cell_type": "markdown",
   "id": "39",
   "metadata": {
    "id": "39"
   },
   "source": [
    "## Save map to HTML"
   ]
  },
  {
   "cell_type": "code",
   "execution_count": null,
   "id": "40",
   "metadata": {
    "id": "40"
   },
   "outputs": [],
   "source": [
    "m = leafmap.Map()\n",
    "m.add_basemap(\"Esri.NatGeoWorldMap\")\n",
    "m"
   ]
  },
  {
   "cell_type": "code",
   "execution_count": null,
   "id": "41",
   "metadata": {
    "id": "41"
   },
   "outputs": [],
   "source": [
    "m.to_html(\"mymap.html\")"
   ]
  },
  {
   "cell_type": "markdown",
   "id": "42",
   "metadata": {
    "id": "42"
   },
   "source": [
    "## Add Planet imagery"
   ]
  },
  {
   "cell_type": "code",
   "execution_count": null,
   "id": "43",
   "metadata": {
    "id": "43"
   },
   "outputs": [],
   "source": [
    "os.environ[\"PLANET_API_KEY\"] = \"your-api-key\""
   ]
  },
  {
   "cell_type": "code",
   "execution_count": null,
   "id": "44",
   "metadata": {
    "id": "44"
   },
   "outputs": [],
   "source": [
    "m = leafmap.Map()\n",
    "m.add_planet_by_month(year=2020, month=8)\n",
    "m.add_planet_by_quarter(year=2019, quarter=2)\n",
    "m"
   ]
  }
 ],
 "metadata": {
  "colab": {
   "provenance": []
  },
  "kernelspec": {
   "display_name": "Python 3",
   "language": "python",
   "name": "python3"
  },
  "widgets": {
   "application/vnd.jupyter.widget-state+json": {
    "06b15213385e49c1b0576c86675b4157": {
     "model_module": "jupyter-leaflet",
     "model_module_version": "^0.18",
     "model_name": "LeafletScaleControlModel",
     "state": {
      "_model_module": "jupyter-leaflet",
      "_model_module_version": "^0.18",
      "_model_name": "LeafletScaleControlModel",
      "_view_count": null,
      "_view_module": "jupyter-leaflet",
      "_view_module_version": "^0.18",
      "_view_name": "LeafletScaleControlView",
      "imperial": true,
      "max_width": 100,
      "metric": true,
      "options": [
       "imperial",
       "max_width",
       "metric",
       "position",
       "update_when_idle"
      ],
      "position": "bottomleft",
      "update_when_idle": false
     }
    },
    "0bb3ed9b99274976b85d3b5a17578796": {
     "model_module": "jupyter-leaflet",
     "model_module_version": "^0.18",
     "model_name": "LeafletZoomControlModel",
     "state": {
      "_model_module": "jupyter-leaflet",
      "_model_module_version": "^0.18",
      "_model_name": "LeafletZoomControlModel",
      "_view_count": null,
      "_view_module": "jupyter-leaflet",
      "_view_module_version": "^0.18",
      "_view_name": "LeafletZoomControlView",
      "options": [
       "position",
       "zoom_in_text",
       "zoom_in_title",
       "zoom_out_text",
       "zoom_out_title"
      ],
      "position": "topleft",
      "zoom_in_text": "+",
      "zoom_in_title": "Zoom in",
      "zoom_out_text": "-",
      "zoom_out_title": "Zoom out"
     }
    },
    "0f8e62e54b4f42cd9f1f3e5738fae241": {
     "model_module": "jupyter-leaflet",
     "model_module_version": "^0.18",
     "model_name": "LeafletMapStyleModel",
     "state": {
      "_model_module": "jupyter-leaflet",
      "_model_module_version": "^0.18",
      "_model_name": "LeafletMapStyleModel",
      "_view_count": null,
      "_view_module": "@jupyter-widgets/base",
      "_view_module_version": "1.2.0",
      "_view_name": "StyleView",
      "cursor": "grab"
     }
    },
    "0ff036917de34889b28ffe0676a43423": {
     "model_module": "@jupyter-widgets/base",
     "model_module_version": "1.2.0",
     "model_name": "LayoutModel",
     "state": {
      "_model_module": "@jupyter-widgets/base",
      "_model_module_version": "1.2.0",
      "_model_name": "LayoutModel",
      "_view_count": null,
      "_view_module": "@jupyter-widgets/base",
      "_view_module_version": "1.2.0",
      "_view_name": "LayoutView",
      "align_content": null,
      "align_items": null,
      "align_self": null,
      "border": null,
      "bottom": null,
      "display": null,
      "flex": null,
      "flex_flow": null,
      "grid_area": null,
      "grid_auto_columns": null,
      "grid_auto_flow": null,
      "grid_auto_rows": null,
      "grid_column": null,
      "grid_gap": null,
      "grid_row": null,
      "grid_template_areas": null,
      "grid_template_columns": null,
      "grid_template_rows": null,
      "height": null,
      "justify_content": null,
      "justify_items": null,
      "left": null,
      "margin": null,
      "max_height": null,
      "max_width": null,
      "min_height": null,
      "min_width": null,
      "object_fit": null,
      "object_position": null,
      "order": null,
      "overflow": null,
      "overflow_x": null,
      "overflow_y": null,
      "padding": null,
      "right": null,
      "top": null,
      "visibility": null,
      "width": null
     }
    },
    "1509c45c80e64a33a803e6039f29fe06": {
     "model_module": "@jupyter-widgets/base",
     "model_module_version": "1.2.0",
     "model_name": "LayoutModel",
     "state": {
      "_model_module": "@jupyter-widgets/base",
      "_model_module_version": "1.2.0",
      "_model_name": "LayoutModel",
      "_view_count": null,
      "_view_module": "@jupyter-widgets/base",
      "_view_module_version": "1.2.0",
      "_view_name": "LayoutView",
      "align_content": null,
      "align_items": null,
      "align_self": null,
      "border": null,
      "bottom": null,
      "display": null,
      "flex": null,
      "flex_flow": null,
      "grid_area": null,
      "grid_auto_columns": null,
      "grid_auto_flow": null,
      "grid_auto_rows": null,
      "grid_column": null,
      "grid_gap": null,
      "grid_row": null,
      "grid_template_areas": null,
      "grid_template_columns": null,
      "grid_template_rows": null,
      "height": "28px",
      "justify_content": null,
      "justify_items": null,
      "left": null,
      "margin": null,
      "max_height": null,
      "max_width": null,
      "min_height": null,
      "min_width": null,
      "object_fit": null,
      "object_position": null,
      "order": null,
      "overflow": null,
      "overflow_x": null,
      "overflow_y": null,
      "padding": "0px 0px 0px 4px",
      "right": null,
      "top": null,
      "visibility": null,
      "width": "28px"
     }
    },
    "15b42db7d0c54f639b0a1a704b8c763f": {
     "model_module": "jupyter-leaflet",
     "model_module_version": "^0.18",
     "model_name": "LeafletWidgetControlModel",
     "state": {
      "_model_module": "jupyter-leaflet",
      "_model_module_version": "^0.18",
      "_model_name": "LeafletWidgetControlModel",
      "_view_count": null,
      "_view_module": "jupyter-leaflet",
      "_view_module_version": "^0.18",
      "_view_name": "LeafletWidgetControlView",
      "max_height": null,
      "max_width": null,
      "min_height": null,
      "min_width": null,
      "options": [
       "position",
       "transparent_bg"
      ],
      "position": "topright",
      "transparent_bg": false,
      "widget": "IPY_MODEL_e767ae8b7e304f4aae14e6a3e5d296b7"
     }
    },
    "2560dfa917f242fe8730c39d1f9f57a2": {
     "model_module": "@jupyter-widgets/controls",
     "model_module_version": "1.5.0",
     "model_name": "ToggleButtonModel",
     "state": {
      "_dom_classes": [],
      "_model_module": "@jupyter-widgets/controls",
      "_model_module_version": "1.5.0",
      "_model_name": "ToggleButtonModel",
      "_view_count": null,
      "_view_module": "@jupyter-widgets/controls",
      "_view_module_version": "1.5.0",
      "_view_name": "ToggleButtonView",
      "button_style": "",
      "description": "",
      "description_tooltip": null,
      "disabled": false,
      "icon": "wrench",
      "layout": "IPY_MODEL_1509c45c80e64a33a803e6039f29fe06",
      "style": "IPY_MODEL_5cbc911b08254cd49d4dbea76d25f62c",
      "tooltip": "Toolbar",
      "value": false
     }
    },
    "2b04286f710f4a6eb7add00f746b1931": {
     "model_module": "jupyter-leaflet",
     "model_module_version": "^0.18",
     "model_name": "LeafletDrawControlModel",
     "state": {
      "_model_module": "jupyter-leaflet",
      "_model_module_version": "^0.18",
      "_model_name": "LeafletDrawControlModel",
      "_view_count": null,
      "_view_module": "jupyter-leaflet",
      "_view_module_version": "^0.18",
      "_view_name": "LeafletDrawControlView",
      "circle": {
       "repeatMode": false,
       "shapeOptions": {
        "color": "#3388ff"
       }
      },
      "circlemarker": {},
      "data": [],
      "edit": true,
      "marker": {
       "repeatMode": false,
       "shapeOptions": {
        "color": "#3388ff"
       }
      },
      "options": [
       "position"
      ],
      "polygon": {
       "repeatMode": false
      },
      "polyline": {
       "repeatMode": false
      },
      "position": "topleft",
      "rectangle": {
       "repeatMode": false,
       "shapeOptions": {
        "color": "#3388ff"
       }
      },
      "remove": true
     }
    },
    "2d93467c611c44e69eb8da355c70ca0f": {
     "model_module": "jupyter-leaflet",
     "model_module_version": "^0.18",
     "model_name": "LeafletDrawControlModel",
     "state": {
      "_model_module": "jupyter-leaflet",
      "_model_module_version": "^0.18",
      "_model_name": "LeafletDrawControlModel",
      "_view_count": null,
      "_view_module": "jupyter-leaflet",
      "_view_module_version": "^0.18",
      "_view_name": "LeafletDrawControlView",
      "circle": {
       "repeatMode": false,
       "shapeOptions": {
        "color": "#3388ff"
       }
      },
      "circlemarker": {},
      "data": [],
      "edit": true,
      "marker": {
       "repeatMode": false,
       "shapeOptions": {
        "color": "#3388ff"
       }
      },
      "options": [
       "position"
      ],
      "polygon": {
       "repeatMode": false
      },
      "polyline": {
       "repeatMode": false
      },
      "position": "topleft",
      "rectangle": {
       "repeatMode": false,
       "shapeOptions": {
        "color": "#3388ff"
       }
      },
      "remove": true
     }
    },
    "32569958115e48fdb5828982914060b1": {
     "model_module": "jupyter-leaflet",
     "model_module_version": "^0.18",
     "model_name": "LeafletFullScreenControlModel",
     "state": {
      "_model_module": "jupyter-leaflet",
      "_model_module_version": "^0.18",
      "_model_name": "LeafletFullScreenControlModel",
      "_view_count": null,
      "_view_module": "jupyter-leaflet",
      "_view_module_version": "^0.18",
      "_view_name": "LeafletFullScreenControlView",
      "options": [
       "position"
      ],
      "position": "topleft"
     }
    },
    "3f550316cdd14d2eb844acf3d6a1e11b": {
     "model_module": "jupyter-leaflet",
     "model_module_version": "^0.18",
     "model_name": "LeafletMapStyleModel",
     "state": {
      "_model_module": "jupyter-leaflet",
      "_model_module_version": "^0.18",
      "_model_name": "LeafletMapStyleModel",
      "_view_count": null,
      "_view_module": "@jupyter-widgets/base",
      "_view_module_version": "1.2.0",
      "_view_name": "StyleView",
      "cursor": "move"
     }
    },
    "44970cd01b4a4bbbbc648d86465d1816": {
     "model_module": "jupyter-leaflet",
     "model_module_version": "^0.18",
     "model_name": "LeafletAttributionControlModel",
     "state": {
      "_model_module": "jupyter-leaflet",
      "_model_module_version": "^0.18",
      "_model_name": "LeafletAttributionControlModel",
      "_view_count": null,
      "_view_module": "jupyter-leaflet",
      "_view_module_version": "^0.18",
      "_view_name": "LeafletAttributionControlView",
      "options": [
       "position",
       "prefix"
      ],
      "position": "bottomright",
      "prefix": "ipyleaflet"
     }
    },
    "4546f71716664229a9d8502d1e7deea3": {
     "model_module": "@jupyter-widgets/base",
     "model_module_version": "1.2.0",
     "model_name": "LayoutModel",
     "state": {
      "_model_module": "@jupyter-widgets/base",
      "_model_module_version": "1.2.0",
      "_model_name": "LayoutModel",
      "_view_count": null,
      "_view_module": "@jupyter-widgets/base",
      "_view_module_version": "1.2.0",
      "_view_name": "LayoutView",
      "align_content": null,
      "align_items": null,
      "align_self": null,
      "border": null,
      "bottom": null,
      "display": null,
      "flex": null,
      "flex_flow": null,
      "grid_area": null,
      "grid_auto_columns": null,
      "grid_auto_flow": null,
      "grid_auto_rows": null,
      "grid_column": null,
      "grid_gap": null,
      "grid_row": null,
      "grid_template_areas": null,
      "grid_template_columns": null,
      "grid_template_rows": null,
      "height": "600px",
      "justify_content": null,
      "justify_items": null,
      "left": null,
      "margin": null,
      "max_height": null,
      "max_width": null,
      "min_height": null,
      "min_width": null,
      "object_fit": null,
      "object_position": null,
      "order": null,
      "overflow": null,
      "overflow_x": null,
      "overflow_y": null,
      "padding": null,
      "right": null,
      "top": null,
      "visibility": null,
      "width": null
     }
    },
    "4ab9a6b9f80f442683c78d14737001eb": {
     "model_module": "jupyter-leaflet",
     "model_module_version": "^0.18",
     "model_name": "LeafletMapStyleModel",
     "state": {
      "_model_module": "jupyter-leaflet",
      "_model_module_version": "^0.18",
      "_model_name": "LeafletMapStyleModel",
      "_view_count": null,
      "_view_module": "@jupyter-widgets/base",
      "_view_module_version": "1.2.0",
      "_view_name": "StyleView",
      "cursor": "grab"
     }
    },
    "5cbc911b08254cd49d4dbea76d25f62c": {
     "model_module": "@jupyter-widgets/controls",
     "model_module_version": "1.5.0",
     "model_name": "DescriptionStyleModel",
     "state": {
      "_model_module": "@jupyter-widgets/controls",
      "_model_module_version": "1.5.0",
      "_model_name": "DescriptionStyleModel",
      "_view_count": null,
      "_view_module": "@jupyter-widgets/base",
      "_view_module_version": "1.2.0",
      "_view_name": "StyleView",
      "description_width": ""
     }
    },
    "686c3c9fb32c444fb18824cef268c40c": {
     "model_module": "jupyter-leaflet",
     "model_module_version": "^0.18",
     "model_name": "LeafletWidgetControlModel",
     "state": {
      "_model_module": "jupyter-leaflet",
      "_model_module_version": "^0.18",
      "_model_name": "LeafletWidgetControlModel",
      "_view_count": null,
      "_view_module": "jupyter-leaflet",
      "_view_module_version": "^0.18",
      "_view_name": "LeafletWidgetControlView",
      "max_height": null,
      "max_width": null,
      "min_height": null,
      "min_width": null,
      "options": [
       "position",
       "transparent_bg"
      ],
      "position": "topright",
      "transparent_bg": false,
      "widget": "IPY_MODEL_b22e147c9b334d678c63d3898efb7a2e"
     }
    },
    "79bebef8ef4c434e901d3b43140d9922": {
     "model_module": "jupyter-leaflet",
     "model_module_version": "^0.18",
     "model_name": "LeafletTileLayerModel",
     "state": {
      "_model_module": "jupyter-leaflet",
      "_model_module_version": "^0.18",
      "_model_name": "LeafletTileLayerModel",
      "_view_count": null,
      "_view_module": "jupyter-leaflet",
      "_view_module_version": "^0.18",
      "_view_name": "LeafletTileLayerView",
      "attribution": "&copy; <a href=\"https://www.openstreetmap.org/copyright\">OpenStreetMap</a> contributors",
      "base": true,
      "bottom": true,
      "bounds": null,
      "detect_retina": false,
      "loading": false,
      "max_native_zoom": null,
      "max_zoom": 19,
      "min_native_zoom": null,
      "min_zoom": 1,
      "name": "OpenStreetMap",
      "no_wrap": false,
      "opacity": 1,
      "options": [
       "attribution",
       "bounds",
       "detect_retina",
       "max_native_zoom",
       "max_zoom",
       "min_native_zoom",
       "min_zoom",
       "no_wrap",
       "tile_size",
       "tms",
       "zoom_offset"
      ],
      "pane": "",
      "popup": null,
      "popup_max_height": null,
      "popup_max_width": 300,
      "popup_min_width": 50,
      "show_loading": false,
      "subitems": [],
      "tile_size": 256,
      "tms": false,
      "url": "https://tile.openstreetmap.org/{z}/{x}/{y}.png",
      "visible": true,
      "zoom_offset": 0
     }
    },
    "83d3cd07b748448bb2732f62be4a10b2": {
     "model_module": "jupyter-leaflet",
     "model_module_version": "^0.18",
     "model_name": "LeafletTileLayerModel",
     "state": {
      "_model_module": "jupyter-leaflet",
      "_model_module_version": "^0.18",
      "_model_name": "LeafletTileLayerModel",
      "_view_count": null,
      "_view_module": "jupyter-leaflet",
      "_view_module_version": "^0.18",
      "_view_name": "LeafletTileLayerView",
      "attribution": "&copy; <a href=\"https://www.openstreetmap.org/copyright\">OpenStreetMap</a> contributors",
      "base": true,
      "bottom": true,
      "bounds": null,
      "detect_retina": false,
      "loading": false,
      "max_native_zoom": null,
      "max_zoom": 19,
      "min_native_zoom": null,
      "min_zoom": 1,
      "name": "OpenStreetMap",
      "no_wrap": false,
      "opacity": 1,
      "options": [
       "attribution",
       "bounds",
       "detect_retina",
       "max_native_zoom",
       "max_zoom",
       "min_native_zoom",
       "min_zoom",
       "no_wrap",
       "tile_size",
       "tms",
       "zoom_offset"
      ],
      "pane": "",
      "popup": null,
      "popup_max_height": null,
      "popup_max_width": 300,
      "popup_min_width": 50,
      "show_loading": false,
      "subitems": [],
      "tile_size": 256,
      "tms": false,
      "url": "https://tile.openstreetmap.org/{z}/{x}/{y}.png",
      "visible": true,
      "zoom_offset": 0
     }
    },
    "844a821bb06f47dbba4d018ef95794ac": {
     "model_module": "@jupyter-widgets/controls",
     "model_module_version": "1.5.0",
     "model_name": "ToggleButtonModel",
     "state": {
      "_dom_classes": [],
      "_model_module": "@jupyter-widgets/controls",
      "_model_module_version": "1.5.0",
      "_model_name": "ToggleButtonModel",
      "_view_count": null,
      "_view_module": "@jupyter-widgets/controls",
      "_view_module_version": "1.5.0",
      "_view_name": "ToggleButtonView",
      "button_style": "",
      "description": "",
      "description_tooltip": null,
      "disabled": false,
      "icon": "wrench",
      "layout": "IPY_MODEL_a0ffe56132fc4277959b14f3cc6ab2b1",
      "style": "IPY_MODEL_b8a8028dd0a94757958d4448a672c889",
      "tooltip": "Toolbar",
      "value": false
     }
    },
    "8f244cf9de0e4c0aaa00ef4764502b5d": {
     "model_module": "jupyter-leaflet",
     "model_module_version": "^0.18",
     "model_name": "LeafletMapStyleModel",
     "state": {
      "_model_module": "jupyter-leaflet",
      "_model_module_version": "^0.18",
      "_model_name": "LeafletMapStyleModel",
      "_view_count": null,
      "_view_module": "@jupyter-widgets/base",
      "_view_module_version": "1.2.0",
      "_view_name": "StyleView",
      "cursor": "grab"
     }
    },
    "9efcfbb42cb64ee9959a4ae072724cdd": {
     "model_module": "@jupyter-widgets/base",
     "model_module_version": "1.2.0",
     "model_name": "LayoutModel",
     "state": {
      "_model_module": "@jupyter-widgets/base",
      "_model_module_version": "1.2.0",
      "_model_name": "LayoutModel",
      "_view_count": null,
      "_view_module": "@jupyter-widgets/base",
      "_view_module_version": "1.2.0",
      "_view_name": "LayoutView",
      "align_content": null,
      "align_items": null,
      "align_self": null,
      "border": null,
      "bottom": null,
      "display": null,
      "flex": null,
      "flex_flow": null,
      "grid_area": null,
      "grid_auto_columns": null,
      "grid_auto_flow": null,
      "grid_auto_rows": null,
      "grid_column": null,
      "grid_gap": null,
      "grid_row": null,
      "grid_template_areas": null,
      "grid_template_columns": null,
      "grid_template_rows": null,
      "height": "600px",
      "justify_content": null,
      "justify_items": null,
      "left": null,
      "margin": null,
      "max_height": null,
      "max_width": null,
      "min_height": null,
      "min_width": null,
      "object_fit": null,
      "object_position": null,
      "order": null,
      "overflow": null,
      "overflow_x": null,
      "overflow_y": null,
      "padding": null,
      "right": null,
      "top": null,
      "visibility": null,
      "width": null
     }
    },
    "a0ffe56132fc4277959b14f3cc6ab2b1": {
     "model_module": "@jupyter-widgets/base",
     "model_module_version": "1.2.0",
     "model_name": "LayoutModel",
     "state": {
      "_model_module": "@jupyter-widgets/base",
      "_model_module_version": "1.2.0",
      "_model_name": "LayoutModel",
      "_view_count": null,
      "_view_module": "@jupyter-widgets/base",
      "_view_module_version": "1.2.0",
      "_view_name": "LayoutView",
      "align_content": null,
      "align_items": null,
      "align_self": null,
      "border": null,
      "bottom": null,
      "display": null,
      "flex": null,
      "flex_flow": null,
      "grid_area": null,
      "grid_auto_columns": null,
      "grid_auto_flow": null,
      "grid_auto_rows": null,
      "grid_column": null,
      "grid_gap": null,
      "grid_row": null,
      "grid_template_areas": null,
      "grid_template_columns": null,
      "grid_template_rows": null,
      "height": "28px",
      "justify_content": null,
      "justify_items": null,
      "left": null,
      "margin": null,
      "max_height": null,
      "max_width": null,
      "min_height": null,
      "min_width": null,
      "object_fit": null,
      "object_position": null,
      "order": null,
      "overflow": null,
      "overflow_x": null,
      "overflow_y": null,
      "padding": "0px 0px 0px 4px",
      "right": null,
      "top": null,
      "visibility": null,
      "width": "28px"
     }
    },
    "b22e147c9b334d678c63d3898efb7a2e": {
     "model_module": "@jupyter-widgets/controls",
     "model_module_version": "1.5.0",
     "model_name": "VBoxModel",
     "state": {
      "_dom_classes": [],
      "_model_module": "@jupyter-widgets/controls",
      "_model_module_version": "1.5.0",
      "_model_name": "VBoxModel",
      "_view_count": null,
      "_view_module": "@jupyter-widgets/controls",
      "_view_module_version": "1.5.0",
      "_view_name": "VBoxView",
      "box_style": "",
      "children": [
       "IPY_MODEL_2560dfa917f242fe8730c39d1f9f57a2"
      ],
      "layout": "IPY_MODEL_0ff036917de34889b28ffe0676a43423"
     }
    },
    "b29d13dfd08043e1bc10bf99ff25e972": {
     "model_module": "jupyter-leaflet",
     "model_module_version": "^0.18",
     "model_name": "LeafletMapModel",
     "state": {
      "_dom_classes": [],
      "_model_module": "jupyter-leaflet",
      "_model_module_version": "^0.18",
      "_model_name": "LeafletMapModel",
      "_view_count": null,
      "_view_module": "jupyter-leaflet",
      "_view_module_version": "^0.18",
      "_view_name": "LeafletMapView",
      "bottom": 11157066,
      "bounce_at_zoom_limits": true,
      "box_zoom": true,
      "center": [
       51.513670243545285,
       -0.15232264995574954
      ],
      "close_popup_on_click": true,
      "controls": [
       "IPY_MODEL_ef982f7401014c0682fb56631057a3c9",
       "IPY_MODEL_c583ee871abe4389912dae117b30d428",
       "IPY_MODEL_bc45168efe274a74b403092732e23b70",
       "IPY_MODEL_2d93467c611c44e69eb8da355c70ca0f",
       "IPY_MODEL_06b15213385e49c1b0576c86675b4157",
       "IPY_MODEL_15b42db7d0c54f639b0a1a704b8c763f"
      ],
      "crs": {
       "custom": false,
       "name": "EPSG3857"
      },
      "default_style": "IPY_MODEL_ed3a2f03f22641d4917f980fd3da17f4",
      "double_click_zoom": true,
      "dragging": true,
      "dragging_style": "IPY_MODEL_d7d119a2ee64436384517c7e39dc0eba",
      "east": -0.13927102088928225,
      "fullscreen": false,
      "inertia": true,
      "inertia_deceleration": 3000,
      "inertia_max_speed": 1500,
      "interpolation": "bilinear",
      "keyboard": true,
      "keyboard_pan_offset": 80,
      "keyboard_zoom_offset": 1,
      "layers": [
       "IPY_MODEL_83d3cd07b748448bb2732f62be4a10b2"
      ],
      "layout": "IPY_MODEL_4546f71716664229a9d8502d1e7deea3",
      "left": 16761802,
      "max_zoom": 24,
      "min_zoom": null,
      "modisdate": "2024-04-01",
      "north": 51.515673255697095,
      "options": [
       "bounce_at_zoom_limits",
       "box_zoom",
       "center",
       "close_popup_on_click",
       "double_click_zoom",
       "dragging",
       "fullscreen",
       "inertia",
       "inertia_deceleration",
       "inertia_max_speed",
       "interpolation",
       "keyboard",
       "keyboard_pan_offset",
       "keyboard_zoom_offset",
       "max_zoom",
       "min_zoom",
       "prefer_canvas",
       "scroll_wheel_zoom",
       "tap",
       "tap_tolerance",
       "touch_zoom",
       "world_copy_jump",
       "zoom",
       "zoom_animation_threshold",
       "zoom_delta",
       "zoom_snap"
      ],
      "panes": {},
      "prefer_canvas": false,
      "right": 16764235,
      "scroll_wheel_zoom": true,
      "south": 51.51166714331473,
      "style": "IPY_MODEL_ed3a2f03f22641d4917f980fd3da17f4",
      "tap": true,
      "tap_tolerance": 15,
      "top": 11156466,
      "touch_zoom": true,
      "west": -0.16537427902221682,
      "window_url": "https://l0hjtg2c86b-496ff2e9c6d22116-0-colab.googleusercontent.com/outputframe.html?vrz=colab_20240401-060208_RC00_620814657",
      "world_copy_jump": false,
      "zoom": 17,
      "zoom_animation_threshold": 4,
      "zoom_delta": 1,
      "zoom_snap": 1
     }
    },
    "b8a8028dd0a94757958d4448a672c889": {
     "model_module": "@jupyter-widgets/controls",
     "model_module_version": "1.5.0",
     "model_name": "DescriptionStyleModel",
     "state": {
      "_model_module": "@jupyter-widgets/controls",
      "_model_module_version": "1.5.0",
      "_model_name": "DescriptionStyleModel",
      "_view_count": null,
      "_view_module": "@jupyter-widgets/base",
      "_view_module_version": "1.2.0",
      "_view_name": "StyleView",
      "description_width": ""
     }
    },
    "bc45168efe274a74b403092732e23b70": {
     "model_module": "jupyter-leaflet",
     "model_module_version": "^0.18",
     "model_name": "LeafletFullScreenControlModel",
     "state": {
      "_model_module": "jupyter-leaflet",
      "_model_module_version": "^0.18",
      "_model_name": "LeafletFullScreenControlModel",
      "_view_count": null,
      "_view_module": "jupyter-leaflet",
      "_view_module_version": "^0.18",
      "_view_name": "LeafletFullScreenControlView",
      "options": [
       "position"
      ],
      "position": "topleft"
     }
    },
    "c575f93a6e914ab0803cd679c85ec14b": {
     "model_module": "@jupyter-widgets/base",
     "model_module_version": "1.2.0",
     "model_name": "LayoutModel",
     "state": {
      "_model_module": "@jupyter-widgets/base",
      "_model_module_version": "1.2.0",
      "_model_name": "LayoutModel",
      "_view_count": null,
      "_view_module": "@jupyter-widgets/base",
      "_view_module_version": "1.2.0",
      "_view_name": "LayoutView",
      "align_content": null,
      "align_items": null,
      "align_self": null,
      "border": null,
      "bottom": null,
      "display": null,
      "flex": null,
      "flex_flow": null,
      "grid_area": null,
      "grid_auto_columns": null,
      "grid_auto_flow": null,
      "grid_auto_rows": null,
      "grid_column": null,
      "grid_gap": null,
      "grid_row": null,
      "grid_template_areas": null,
      "grid_template_columns": null,
      "grid_template_rows": null,
      "height": null,
      "justify_content": null,
      "justify_items": null,
      "left": null,
      "margin": null,
      "max_height": null,
      "max_width": null,
      "min_height": null,
      "min_width": null,
      "object_fit": null,
      "object_position": null,
      "order": null,
      "overflow": null,
      "overflow_x": null,
      "overflow_y": null,
      "padding": null,
      "right": null,
      "top": null,
      "visibility": null,
      "width": null
     }
    },
    "c583ee871abe4389912dae117b30d428": {
     "model_module": "jupyter-leaflet",
     "model_module_version": "^0.18",
     "model_name": "LeafletAttributionControlModel",
     "state": {
      "_model_module": "jupyter-leaflet",
      "_model_module_version": "^0.18",
      "_model_name": "LeafletAttributionControlModel",
      "_view_count": null,
      "_view_module": "jupyter-leaflet",
      "_view_module_version": "^0.18",
      "_view_name": "LeafletAttributionControlView",
      "options": [
       "position",
       "prefix"
      ],
      "position": "bottomright",
      "prefix": "ipyleaflet"
     }
    },
    "d04e1871c0334373841902636ada5af5": {
     "model_module": "jupyter-leaflet",
     "model_module_version": "^0.18",
     "model_name": "LeafletMapModel",
     "state": {
      "_dom_classes": [],
      "_model_module": "jupyter-leaflet",
      "_model_module_version": "^0.18",
      "_model_name": "LeafletMapModel",
      "_view_count": null,
      "_view_module": "jupyter-leaflet",
      "_view_module_version": "^0.18",
      "_view_name": "LeafletMapView",
      "bottom": 25054,
      "bounce_at_zoom_limits": true,
      "box_zoom": true,
      "center": [
       40.23760536584024,
       -111.10748291015626
      ],
      "close_popup_on_click": true,
      "controls": [
       "IPY_MODEL_0bb3ed9b99274976b85d3b5a17578796",
       "IPY_MODEL_44970cd01b4a4bbbbc648d86465d1816",
       "IPY_MODEL_32569958115e48fdb5828982914060b1",
       "IPY_MODEL_2b04286f710f4a6eb7add00f746b1931",
       "IPY_MODEL_faf4f43100fb44f1a2d2dba7c658030e",
       "IPY_MODEL_686c3c9fb32c444fb18824cef268c40c"
      ],
      "crs": {
       "custom": false,
       "name": "EPSG3857"
      },
      "default_style": "IPY_MODEL_4ab9a6b9f80f442683c78d14737001eb",
      "double_click_zoom": true,
      "dragging": true,
      "dragging_style": "IPY_MODEL_3f550316cdd14d2eb844acf3d6a1e11b",
      "east": -104.425048828125,
      "fullscreen": false,
      "inertia": true,
      "inertia_deceleration": 3000,
      "inertia_max_speed": 1500,
      "interpolation": "bilinear",
      "keyboard": true,
      "keyboard_pan_offset": 80,
      "keyboard_zoom_offset": 1,
      "layers": [
       "IPY_MODEL_79bebef8ef4c434e901d3b43140d9922"
      ],
      "layout": "IPY_MODEL_9efcfbb42cb64ee9959a4ae072724cdd",
      "left": 11325,
      "max_zoom": 24,
      "min_zoom": null,
      "modisdate": "2024-04-01",
      "north": 41.48389104267175,
      "options": [
       "bounce_at_zoom_limits",
       "box_zoom",
       "center",
       "close_popup_on_click",
       "double_click_zoom",
       "dragging",
       "fullscreen",
       "inertia",
       "inertia_deceleration",
       "inertia_max_speed",
       "interpolation",
       "keyboard",
       "keyboard_pan_offset",
       "keyboard_zoom_offset",
       "max_zoom",
       "min_zoom",
       "prefer_canvas",
       "scroll_wheel_zoom",
       "tap",
       "tap_tolerance",
       "touch_zoom",
       "world_copy_jump",
       "zoom",
       "zoom_animation_threshold",
       "zoom_delta",
       "zoom_snap"
      ],
      "panes": {},
      "prefer_canvas": false,
      "right": 13758,
      "scroll_wheel_zoom": true,
      "south": 38.96795115401593,
      "style": "IPY_MODEL_4ab9a6b9f80f442683c78d14737001eb",
      "tap": true,
      "tap_tolerance": 15,
      "top": 24454,
      "touch_zoom": true,
      "west": -117.78991699218751,
      "window_url": "https://l0hjtg2c86b-496ff2e9c6d22116-0-colab.googleusercontent.com/outputframe.html?vrz=colab_20240401-060208_RC00_620814657",
      "world_copy_jump": false,
      "zoom": 8,
      "zoom_animation_threshold": 4,
      "zoom_delta": 1,
      "zoom_snap": 1
     }
    },
    "d7d119a2ee64436384517c7e39dc0eba": {
     "model_module": "jupyter-leaflet",
     "model_module_version": "^0.18",
     "model_name": "LeafletMapStyleModel",
     "state": {
      "_model_module": "jupyter-leaflet",
      "_model_module_version": "^0.18",
      "_model_name": "LeafletMapStyleModel",
      "_view_count": null,
      "_view_module": "@jupyter-widgets/base",
      "_view_module_version": "1.2.0",
      "_view_name": "StyleView",
      "cursor": "move"
     }
    },
    "e767ae8b7e304f4aae14e6a3e5d296b7": {
     "model_module": "@jupyter-widgets/controls",
     "model_module_version": "1.5.0",
     "model_name": "VBoxModel",
     "state": {
      "_dom_classes": [],
      "_model_module": "@jupyter-widgets/controls",
      "_model_module_version": "1.5.0",
      "_model_name": "VBoxModel",
      "_view_count": null,
      "_view_module": "@jupyter-widgets/controls",
      "_view_module_version": "1.5.0",
      "_view_name": "VBoxView",
      "box_style": "",
      "children": [
       "IPY_MODEL_844a821bb06f47dbba4d018ef95794ac"
      ],
      "layout": "IPY_MODEL_c575f93a6e914ab0803cd679c85ec14b"
     }
    },
    "ed3a2f03f22641d4917f980fd3da17f4": {
     "model_module": "jupyter-leaflet",
     "model_module_version": "^0.18",
     "model_name": "LeafletMapStyleModel",
     "state": {
      "_model_module": "jupyter-leaflet",
      "_model_module_version": "^0.18",
      "_model_name": "LeafletMapStyleModel",
      "_view_count": null,
      "_view_module": "@jupyter-widgets/base",
      "_view_module_version": "1.2.0",
      "_view_name": "StyleView",
      "cursor": "grab"
     }
    },
    "ef982f7401014c0682fb56631057a3c9": {
     "model_module": "jupyter-leaflet",
     "model_module_version": "^0.18",
     "model_name": "LeafletZoomControlModel",
     "state": {
      "_model_module": "jupyter-leaflet",
      "_model_module_version": "^0.18",
      "_model_name": "LeafletZoomControlModel",
      "_view_count": null,
      "_view_module": "jupyter-leaflet",
      "_view_module_version": "^0.18",
      "_view_name": "LeafletZoomControlView",
      "options": [
       "position",
       "zoom_in_text",
       "zoom_in_title",
       "zoom_out_text",
       "zoom_out_title"
      ],
      "position": "topleft",
      "zoom_in_text": "+",
      "zoom_in_title": "Zoom in",
      "zoom_out_text": "-",
      "zoom_out_title": "Zoom out"
     }
    },
    "faf4f43100fb44f1a2d2dba7c658030e": {
     "model_module": "jupyter-leaflet",
     "model_module_version": "^0.18",
     "model_name": "LeafletScaleControlModel",
     "state": {
      "_model_module": "jupyter-leaflet",
      "_model_module_version": "^0.18",
      "_model_name": "LeafletScaleControlModel",
      "_view_count": null,
      "_view_module": "jupyter-leaflet",
      "_view_module_version": "^0.18",
      "_view_name": "LeafletScaleControlView",
      "imperial": true,
      "max_width": 100,
      "metric": true,
      "options": [
       "imperial",
       "max_width",
       "metric",
       "position",
       "update_when_idle"
      ],
      "position": "bottomleft",
      "update_when_idle": false
     }
    }
   }
  }
 },
 "nbformat": 4,
 "nbformat_minor": 5
}
